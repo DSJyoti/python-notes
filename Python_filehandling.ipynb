{
  "nbformat": 4,
  "nbformat_minor": 0,
  "metadata": {
    "colab": {
      "provenance": []
    },
    "kernelspec": {
      "name": "python3",
      "display_name": "Python 3"
    },
    "language_info": {
      "name": "python"
    }
  },
  "cells": [
    {
      "cell_type": "markdown",
      "source": [
        "\n",
        "# Types of data used for I/O:\n",
        "* Text - '12345' as a sequence of unicode chars\n",
        "* Binary - 12345 as a sequence of bytes of its binary equivalent\n",
        "Hence there are 2 file types to deal with\n",
        "* Text files - All program files are text files\n",
        "* Binary Files - Images,music,video,exe files"
      ],
      "metadata": {
        "id": "rGiFDXG4ZE4Y"
      }
    },
    {
      "cell_type": "markdown",
      "source": [
        "# How File I/O is done in most programming languages\n",
        "* Open a file\n",
        "* Read/Write data\n",
        "* Close the file"
      ],
      "metadata": {
        "id": "I7JqJz2_ZTeR"
      }
    },
    {
      "cell_type": "markdown",
      "source": [
        "# Writing to a file"
      ],
      "metadata": {
        "id": "pOTdNEaQaQp8"
      }
    },
    {
      "cell_type": "code",
      "source": [
        "# case 1 - if the file is not present\n",
        "f = open('sample.txt','w')\n",
        "f.write('Hello world')\n",
        "f.close()\n",
        "# since file is closed hence this will not work\n",
        "f.write('hello')"
      ],
      "metadata": {
        "colab": {
          "base_uri": "https://localhost:8080/",
          "height": 180
        },
        "id": "GUrrFVGzaTDk",
        "outputId": "24f023c2-006b-4f31-b965-6ae1cb2830da"
      },
      "execution_count": 39,
      "outputs": [
        {
          "output_type": "error",
          "ename": "ValueError",
          "evalue": "I/O operation on closed file.",
          "traceback": [
            "\u001b[0;31m---------------------------------------------------------------------------\u001b[0m",
            "\u001b[0;31mValueError\u001b[0m                                Traceback (most recent call last)",
            "\u001b[0;32m<ipython-input-39-d0dbc132c7dd>\u001b[0m in \u001b[0;36m<cell line: 0>\u001b[0;34m()\u001b[0m\n\u001b[1;32m      4\u001b[0m \u001b[0mf\u001b[0m\u001b[0;34m.\u001b[0m\u001b[0mclose\u001b[0m\u001b[0;34m(\u001b[0m\u001b[0;34m)\u001b[0m\u001b[0;34m\u001b[0m\u001b[0;34m\u001b[0m\u001b[0m\n\u001b[1;32m      5\u001b[0m \u001b[0;31m# since file is closed hence this will not work\u001b[0m\u001b[0;34m\u001b[0m\u001b[0;34m\u001b[0m\u001b[0m\n\u001b[0;32m----> 6\u001b[0;31m \u001b[0mf\u001b[0m\u001b[0;34m.\u001b[0m\u001b[0mwrite\u001b[0m\u001b[0;34m(\u001b[0m\u001b[0;34m'hello'\u001b[0m\u001b[0;34m)\u001b[0m\u001b[0;34m\u001b[0m\u001b[0;34m\u001b[0m\u001b[0m\n\u001b[0m",
            "\u001b[0;31mValueError\u001b[0m: I/O operation on closed file."
          ]
        }
      ]
    },
    {
      "cell_type": "code",
      "source": [
        "# write multiline strings\n",
        "f = open('sample1.txt','w')\n",
        "f.write('hello world')\n",
        "f.write('\\nhow are you?')\n",
        "f.close()"
      ],
      "metadata": {
        "id": "aak9B72TatiO"
      },
      "execution_count": 2,
      "outputs": []
    },
    {
      "cell_type": "code",
      "source": [
        "# case 2 - if the file is already present\n",
        "f = open('sample.txt','w')\n",
        "f.write('salman khan')\n",
        "f.close()"
      ],
      "metadata": {
        "id": "W_6Lxv79aytI"
      },
      "execution_count": 3,
      "outputs": []
    },
    {
      "cell_type": "code",
      "source": [
        "# Problem with w mode\n",
        "# introducing append mode\n",
        "f = open('/content/sample1.txt','a')\n",
        "f.write('\\nI am fine')\n",
        "f.close()"
      ],
      "metadata": {
        "id": "p9pTu2aGa0xO"
      },
      "execution_count": 4,
      "outputs": []
    },
    {
      "cell_type": "code",
      "source": [
        "# write lines\n",
        "L = ['hello\\n','hi\\n','how are you\\n','I am fine']\n",
        "\n",
        "f = open('/content/temp/sample.txt','w')\n",
        "f.writelines(L)\n",
        "f.close()"
      ],
      "metadata": {
        "colab": {
          "base_uri": "https://localhost:8080/",
          "height": 215
        },
        "id": "P_ehpvn7a4nf",
        "outputId": "aa6f5f58-5203-40a2-f7e5-1cbf700ab27b"
      },
      "execution_count": 40,
      "outputs": [
        {
          "output_type": "error",
          "ename": "FileNotFoundError",
          "evalue": "[Errno 2] No such file or directory: '/content/temp/sample.txt'",
          "traceback": [
            "\u001b[0;31m---------------------------------------------------------------------------\u001b[0m",
            "\u001b[0;31mFileNotFoundError\u001b[0m                         Traceback (most recent call last)",
            "\u001b[0;32m<ipython-input-40-8d0d71910ae8>\u001b[0m in \u001b[0;36m<cell line: 0>\u001b[0;34m()\u001b[0m\n\u001b[1;32m      2\u001b[0m \u001b[0mL\u001b[0m \u001b[0;34m=\u001b[0m \u001b[0;34m[\u001b[0m\u001b[0;34m'hello\\n'\u001b[0m\u001b[0;34m,\u001b[0m\u001b[0;34m'hi\\n'\u001b[0m\u001b[0;34m,\u001b[0m\u001b[0;34m'how are you\\n'\u001b[0m\u001b[0;34m,\u001b[0m\u001b[0;34m'I am fine'\u001b[0m\u001b[0;34m]\u001b[0m\u001b[0;34m\u001b[0m\u001b[0;34m\u001b[0m\u001b[0m\n\u001b[1;32m      3\u001b[0m \u001b[0;34m\u001b[0m\u001b[0m\n\u001b[0;32m----> 4\u001b[0;31m \u001b[0mf\u001b[0m \u001b[0;34m=\u001b[0m \u001b[0mopen\u001b[0m\u001b[0;34m(\u001b[0m\u001b[0;34m'/content/temp/sample.txt'\u001b[0m\u001b[0;34m,\u001b[0m\u001b[0;34m'w'\u001b[0m\u001b[0;34m)\u001b[0m\u001b[0;34m\u001b[0m\u001b[0;34m\u001b[0m\u001b[0m\n\u001b[0m\u001b[1;32m      5\u001b[0m \u001b[0mf\u001b[0m\u001b[0;34m.\u001b[0m\u001b[0mwritelines\u001b[0m\u001b[0;34m(\u001b[0m\u001b[0mL\u001b[0m\u001b[0;34m)\u001b[0m\u001b[0;34m\u001b[0m\u001b[0;34m\u001b[0m\u001b[0m\n\u001b[1;32m      6\u001b[0m \u001b[0mf\u001b[0m\u001b[0;34m.\u001b[0m\u001b[0mclose\u001b[0m\u001b[0;34m(\u001b[0m\u001b[0;34m)\u001b[0m\u001b[0;34m\u001b[0m\u001b[0;34m\u001b[0m\u001b[0m\n",
            "\u001b[0;31mFileNotFoundError\u001b[0m: [Errno 2] No such file or directory: '/content/temp/sample.txt'"
          ]
        }
      ]
    },
    {
      "cell_type": "code",
      "source": [
        "# reading from files\n",
        "# -> using read()\n",
        "f = open('/content/sample.txt','r')\n",
        "s = f.read()\n",
        "print(s)\n",
        "f.close()"
      ],
      "metadata": {
        "colab": {
          "base_uri": "https://localhost:8080/"
        },
        "id": "nx3Y6i5Ia6aw",
        "outputId": "8176b84c-7c19-4d7b-ea39-15bfbc653ca5"
      },
      "execution_count": 6,
      "outputs": [
        {
          "output_type": "stream",
          "name": "stdout",
          "text": [
            "salman khan\n"
          ]
        }
      ]
    },
    {
      "cell_type": "code",
      "source": [
        "# reading upto n chars\n",
        "f = open('/content/sample.txt','r')\n",
        "s = f.read(10)\n",
        "print(s)\n",
        "f.close()"
      ],
      "metadata": {
        "colab": {
          "base_uri": "https://localhost:8080/"
        },
        "id": "zQf91pRlbNDq",
        "outputId": "aca39222-9e57-47bf-c847-2686123a31f4"
      },
      "execution_count": 7,
      "outputs": [
        {
          "output_type": "stream",
          "name": "stdout",
          "text": [
            "salman kha\n"
          ]
        }
      ]
    },
    {
      "cell_type": "code",
      "source": [
        "# readline() -> to read line by line\n",
        "f = open('/content/sample.txt','r')\n",
        "print(f.readline(),end='')\n",
        "print(f.readline(),end='')\n",
        "f.close()"
      ],
      "metadata": {
        "colab": {
          "base_uri": "https://localhost:8080/"
        },
        "id": "yeaZbXHGbTGs",
        "outputId": "3d83af29-4c62-44fb-9818-890515785ccf"
      },
      "execution_count": 8,
      "outputs": [
        {
          "output_type": "stream",
          "name": "stdout",
          "text": [
            "salman khan"
          ]
        }
      ]
    },
    {
      "cell_type": "code",
      "source": [
        "# reading entire using readline\n",
        "f = open('/content/sample.txt','r')\n",
        "\n",
        "while True:\n",
        "\n",
        "  data = f.readline()\n",
        "\n",
        "  if data == '':\n",
        "    break\n",
        "  else:\n",
        "    print(data,end='')\n",
        "\n",
        "f.close()"
      ],
      "metadata": {
        "colab": {
          "base_uri": "https://localhost:8080/"
        },
        "id": "5FwVIdoSbdL8",
        "outputId": "c69dfc7c-f507-4c89-b775-3316c18ca707"
      },
      "execution_count": 9,
      "outputs": [
        {
          "output_type": "stream",
          "name": "stdout",
          "text": [
            "salman khan"
          ]
        }
      ]
    },
    {
      "cell_type": "markdown",
      "source": [
        "# Using Context Manager (With)\n",
        "* It's a good idea to close a file after usage as it will free up the resources\n",
        "* If we dont close it, garbage collector would close it\n",
        "* with keyword closes the file as soon as the usage is over"
      ],
      "metadata": {
        "id": "9V-rLIRnbj2W"
      }
    },
    {
      "cell_type": "code",
      "source": [
        "# with\n",
        "with open('/content/sample1.txt','w') as f:\n",
        "  f.write('selmon bhai')"
      ],
      "metadata": {
        "id": "fcfdtANkboyc"
      },
      "execution_count": 10,
      "outputs": []
    },
    {
      "cell_type": "code",
      "source": [
        "f.write('hello')"
      ],
      "metadata": {
        "colab": {
          "base_uri": "https://localhost:8080/",
          "height": 144
        },
        "id": "EENv9SPTbuyy",
        "outputId": "8b71d4ad-8fc7-4c20-cad7-618f0e73ed86"
      },
      "execution_count": 41,
      "outputs": [
        {
          "output_type": "error",
          "ename": "ValueError",
          "evalue": "I/O operation on closed file.",
          "traceback": [
            "\u001b[0;31m---------------------------------------------------------------------------\u001b[0m",
            "\u001b[0;31mValueError\u001b[0m                                Traceback (most recent call last)",
            "\u001b[0;32m<ipython-input-41-00cba062fa3d>\u001b[0m in \u001b[0;36m<cell line: 0>\u001b[0;34m()\u001b[0m\n\u001b[0;32m----> 1\u001b[0;31m \u001b[0mf\u001b[0m\u001b[0;34m.\u001b[0m\u001b[0mwrite\u001b[0m\u001b[0;34m(\u001b[0m\u001b[0;34m'hello'\u001b[0m\u001b[0;34m)\u001b[0m\u001b[0;34m\u001b[0m\u001b[0;34m\u001b[0m\u001b[0m\n\u001b[0m",
            "\u001b[0;31mValueError\u001b[0m: I/O operation on closed file."
          ]
        }
      ]
    },
    {
      "cell_type": "code",
      "source": [
        "# try f.read() now\n",
        "with open('/content/sample.txt','r') as f:\n",
        "  print(f.readline())"
      ],
      "metadata": {
        "colab": {
          "base_uri": "https://localhost:8080/"
        },
        "id": "0O8JEqwpb2hq",
        "outputId": "30de86f3-0dff-4439-b349-2cab92e234de"
      },
      "execution_count": 12,
      "outputs": [
        {
          "output_type": "stream",
          "name": "stdout",
          "text": [
            "salman khan\n"
          ]
        }
      ]
    },
    {
      "cell_type": "code",
      "source": [
        "# moving within a file -> 10 char then 10 char\n",
        "with open('sample.txt','r') as f:\n",
        "  print(f.read(10))\n",
        "  print(f.read(10))\n",
        "  print(f.read(10))\n",
        "  print(f.read(10))"
      ],
      "metadata": {
        "colab": {
          "base_uri": "https://localhost:8080/"
        },
        "id": "EinLtKYzb3V6",
        "outputId": "54240a55-5e7e-4bdd-cfbb-1a1eca303c22"
      },
      "execution_count": 13,
      "outputs": [
        {
          "output_type": "stream",
          "name": "stdout",
          "text": [
            "salman kha\n",
            "n\n",
            "\n",
            "\n"
          ]
        }
      ]
    },
    {
      "cell_type": "code",
      "source": [
        "# benefit? -> to load a big file in memory\n",
        "big_L = ['hello world ' for i in range(1000)]\n",
        "\n",
        "with open('big.txt','w') as f:\n",
        "  f.writelines(big_L)"
      ],
      "metadata": {
        "id": "ajkAjP-Eb6XX"
      },
      "execution_count": 14,
      "outputs": []
    },
    {
      "cell_type": "code",
      "source": [
        "with open('big.txt','r') as f:\n",
        "\n",
        "  chunk_size = 10\n",
        "\n",
        "  while len(f.read(chunk_size)) > 0:\n",
        "    print(f.read(chunk_size),end='***')\n",
        "    f.read(chunk_size)"
      ],
      "metadata": {
        "colab": {
          "base_uri": "https://localhost:8080/"
        },
        "id": "oM08QV-kb-Lw",
        "outputId": "3380ae4d-c060-4eac-bbeb-4a80d6d4dd87"
      },
      "execution_count": 15,
      "outputs": [
        {
          "output_type": "stream",
          "name": "stdout",
          "text": [
            "d hello wo***o world he***d hello wo***o world he***d hello wo***o world he***d hello wo***o world he***d hello wo***o world he***d hello wo***o world he***d hello wo***o world he***d hello wo***o world he***d hello wo***o world he***d hello wo***o world he***d hello wo***o world he***d hello wo***o world he***d hello wo***o world he***d hello wo***o world he***d hello wo***o world he***d hello wo***o world he***d hello wo***o world he***d hello wo***o world he***d hello wo***o world he***d hello wo***o world he***d hello wo***o world he***d hello wo***o world he***d hello wo***o world he***d hello wo***o world he***d hello wo***o world he***d hello wo***o world he***d hello wo***o world he***d hello wo***o world he***d hello wo***o world he***d hello wo***o world he***d hello wo***o world he***d hello wo***o world he***d hello wo***o world he***d hello wo***o world he***d hello wo***o world he***d hello wo***o world he***d hello wo***o world he***d hello wo***o world he***d hello wo***o world he***d hello wo***o world he***d hello wo***o world he***d hello wo***o world he***d hello wo***o world he***d hello wo***o world he***d hello wo***o world he***d hello wo***o world he***d hello wo***o world he***d hello wo***o world he***d hello wo***o world he***d hello wo***o world he***d hello wo***o world he***d hello wo***o world he***d hello wo***o world he***d hello wo***o world he***d hello wo***o world he***d hello wo***o world he***d hello wo***o world he***d hello wo***o world he***d hello wo***o world he***d hello wo***o world he***d hello wo***o world he***d hello wo***o world he***d hello wo***o world he***d hello wo***o world he***d hello wo***o world he***d hello wo***o world he***d hello wo***o world he***d hello wo***o world he***d hello wo***o world he***d hello wo***o world he***d hello wo***o world he***d hello wo***o world he***d hello wo***o world he***d hello wo***o world he***d hello wo***o world he***d hello wo***o world he***d hello wo***o world he***d hello wo***o world he***d hello wo***o world he***d hello wo***o world he***d hello wo***o world he***d hello wo***o world he***d hello wo***o world he***d hello wo***o world he***d hello wo***o world he***d hello wo***o world he***d hello wo***o world he***d hello wo***o world he***d hello wo***o world he***d hello wo***o world he***d hello wo***o world he***d hello wo***o world he***d hello wo***o world he***d hello wo***o world he***d hello wo***o world he***d hello wo***o world he***d hello wo***o world he***d hello wo***o world he***d hello wo***o world he***d hello wo***o world he***d hello wo***o world he***d hello wo***o world he***d hello wo***o world he***d hello wo***o world he***d hello wo***o world he***d hello wo***o world he***d hello wo***o world he***d hello wo***o world he***d hello wo***o world he***d hello wo***o world he***d hello wo***o world he***d hello wo***o world he***d hello wo***o world he***d hello wo***o world he***d hello wo***o world he***d hello wo***o world he***d hello wo***o world he***d hello wo***o world he***d hello wo***o world he***d hello wo***o world he***d hello wo***o world he***d hello wo***o world he***d hello wo***o world he***d hello wo***o world he***d hello wo***o world he***d hello wo***o world he***d hello wo***o world he***d hello wo***o world he***d hello wo***o world he***d hello wo***o world he***d hello wo***o world he***d hello wo***o world he***d hello wo***o world he***d hello wo***o world he***d hello wo***o world he***d hello wo***o world he***d hello wo***o world he***d hello wo***o world he***d hello wo***o world he***d hello wo***o world he***d hello wo***o world he***d hello wo***o world he***d hello wo***o world he***d hello wo***o world he***d hello wo***o world he***d hello wo***o world he***d hello wo***o world he***d hello wo***o world he***d hello wo***o world he***d hello wo***o world he***d hello wo***o world he***d hello wo***o world he***d hello wo***o world he***d hello wo***o world he***d hello wo***o world he***d hello wo***o world he***d hello wo***o world he***d hello wo***o world he***d hello wo***o world he***d hello wo***o world he***d hello wo***o world he***d hello wo***o world he***d hello wo***o world he***d hello wo***o world he***d hello wo***o world he***d hello wo***o world he***d hello wo***o world he***d hello wo***o world he***d hello wo***o world he***d hello wo***o world he***d hello wo***o world he***d hello wo***o world he***d hello wo***o world he***d hello wo***o world he***d hello wo***o world he***d hello wo***o world he***d hello wo***o world he***d hello wo***o world he***d hello wo***o world he***d hello wo***o world he***d hello wo***o world he***d hello wo***o world he***d hello wo***o world he***d hello wo***o world he***d hello wo***o world he***d hello wo***o world he***d hello wo***o world he***d hello wo***o world he***d hello wo***o world he***d hello wo***o world he***d hello wo***o world he***d hello wo***o world he***d hello wo***o world he***d hello wo***o world he***d hello wo***o world he***d hello wo***o world he***d hello wo***o world he***d hello wo***o world he***d hello wo***o world he***d hello wo***o world he***"
          ]
        }
      ]
    },
    {
      "cell_type": "code",
      "source": [
        "# seek and tell function\n",
        "with open('sample.txt','r') as f:\n",
        "  f.seek(15)\n",
        "  print(f.read(10))\n",
        "  print(f.tell())\n",
        "\n",
        "  print(f.read(10))\n",
        "  print(f.tell())"
      ],
      "metadata": {
        "colab": {
          "base_uri": "https://localhost:8080/"
        },
        "id": "1jeNHZercBEN",
        "outputId": "95d116ff-d3d4-4f17-f342-1e51cd2caf50"
      },
      "execution_count": 16,
      "outputs": [
        {
          "output_type": "stream",
          "name": "stdout",
          "text": [
            "\n",
            "15\n",
            "\n",
            "15\n"
          ]
        }
      ]
    },
    {
      "cell_type": "code",
      "source": [
        "# seek during write\n",
        "with open('sample.txt','w') as f:\n",
        "  f.write('Hello')\n",
        "  f.seek(0)\n",
        "  f.write('Xa')"
      ],
      "metadata": {
        "id": "8xHPkDLMcEWw"
      },
      "execution_count": 17,
      "outputs": []
    },
    {
      "cell_type": "markdown",
      "source": [
        "# Problems with working in text mode\n",
        "* can't work with binary files like images\n",
        "* not good for other data types like int/float/list/tuples"
      ],
      "metadata": {
        "id": "SsB2urkwcMQL"
      }
    },
    {
      "cell_type": "code",
      "source": [
        "# working with binary file\n",
        "with open('screenshot1.png','r') as f:\n",
        "  f.read()"
      ],
      "metadata": {
        "colab": {
          "base_uri": "https://localhost:8080/",
          "height": 180
        },
        "id": "6rS1O-cScSKs",
        "outputId": "0f1aad7e-9f9d-4884-e407-b60616840351"
      },
      "execution_count": 18,
      "outputs": [
        {
          "output_type": "error",
          "ename": "FileNotFoundError",
          "evalue": "[Errno 2] No such file or directory: 'screenshot1.png'",
          "traceback": [
            "\u001b[0;31m---------------------------------------------------------------------------\u001b[0m",
            "\u001b[0;31mFileNotFoundError\u001b[0m                         Traceback (most recent call last)",
            "\u001b[0;32m<ipython-input-18-b662b4ad1a91>\u001b[0m in \u001b[0;36m<cell line: 0>\u001b[0;34m()\u001b[0m\n\u001b[1;32m      1\u001b[0m \u001b[0;31m# working with binary file\u001b[0m\u001b[0;34m\u001b[0m\u001b[0;34m\u001b[0m\u001b[0m\n\u001b[0;32m----> 2\u001b[0;31m \u001b[0;32mwith\u001b[0m \u001b[0mopen\u001b[0m\u001b[0;34m(\u001b[0m\u001b[0;34m'screenshot1.png'\u001b[0m\u001b[0;34m,\u001b[0m\u001b[0;34m'r'\u001b[0m\u001b[0;34m)\u001b[0m \u001b[0;32mas\u001b[0m \u001b[0mf\u001b[0m\u001b[0;34m:\u001b[0m\u001b[0;34m\u001b[0m\u001b[0;34m\u001b[0m\u001b[0m\n\u001b[0m\u001b[1;32m      3\u001b[0m   \u001b[0mf\u001b[0m\u001b[0;34m.\u001b[0m\u001b[0mread\u001b[0m\u001b[0;34m(\u001b[0m\u001b[0;34m)\u001b[0m\u001b[0;34m\u001b[0m\u001b[0;34m\u001b[0m\u001b[0m\n",
            "\u001b[0;31mFileNotFoundError\u001b[0m: [Errno 2] No such file or directory: 'screenshot1.png'"
          ]
        }
      ]
    },
    {
      "cell_type": "code",
      "source": [
        "# working with binary file\n",
        "with open('screenshot1.png','rb') as f:\n",
        "  with open('screenshot_copy.png','wb') as wf:\n",
        "    wf.write(f.read())"
      ],
      "metadata": {
        "colab": {
          "base_uri": "https://localhost:8080/",
          "height": 197
        },
        "id": "HzpXI2-fcWNt",
        "outputId": "5e101381-682d-4d52-a8c1-13754413a0c8"
      },
      "execution_count": 19,
      "outputs": [
        {
          "output_type": "error",
          "ename": "FileNotFoundError",
          "evalue": "[Errno 2] No such file or directory: 'screenshot1.png'",
          "traceback": [
            "\u001b[0;31m---------------------------------------------------------------------------\u001b[0m",
            "\u001b[0;31mFileNotFoundError\u001b[0m                         Traceback (most recent call last)",
            "\u001b[0;32m<ipython-input-19-4d31a5dad5ee>\u001b[0m in \u001b[0;36m<cell line: 0>\u001b[0;34m()\u001b[0m\n\u001b[1;32m      1\u001b[0m \u001b[0;31m# working with binary file\u001b[0m\u001b[0;34m\u001b[0m\u001b[0;34m\u001b[0m\u001b[0m\n\u001b[0;32m----> 2\u001b[0;31m \u001b[0;32mwith\u001b[0m \u001b[0mopen\u001b[0m\u001b[0;34m(\u001b[0m\u001b[0;34m'screenshot1.png'\u001b[0m\u001b[0;34m,\u001b[0m\u001b[0;34m'rb'\u001b[0m\u001b[0;34m)\u001b[0m \u001b[0;32mas\u001b[0m \u001b[0mf\u001b[0m\u001b[0;34m:\u001b[0m\u001b[0;34m\u001b[0m\u001b[0;34m\u001b[0m\u001b[0m\n\u001b[0m\u001b[1;32m      3\u001b[0m   \u001b[0;32mwith\u001b[0m \u001b[0mopen\u001b[0m\u001b[0;34m(\u001b[0m\u001b[0;34m'screenshot_copy.png'\u001b[0m\u001b[0;34m,\u001b[0m\u001b[0;34m'wb'\u001b[0m\u001b[0;34m)\u001b[0m \u001b[0;32mas\u001b[0m \u001b[0mwf\u001b[0m\u001b[0;34m:\u001b[0m\u001b[0;34m\u001b[0m\u001b[0;34m\u001b[0m\u001b[0m\n\u001b[1;32m      4\u001b[0m     \u001b[0mwf\u001b[0m\u001b[0;34m.\u001b[0m\u001b[0mwrite\u001b[0m\u001b[0;34m(\u001b[0m\u001b[0mf\u001b[0m\u001b[0;34m.\u001b[0m\u001b[0mread\u001b[0m\u001b[0;34m(\u001b[0m\u001b[0;34m)\u001b[0m\u001b[0;34m)\u001b[0m\u001b[0;34m\u001b[0m\u001b[0;34m\u001b[0m\u001b[0m\n",
            "\u001b[0;31mFileNotFoundError\u001b[0m: [Errno 2] No such file or directory: 'screenshot1.png'"
          ]
        }
      ]
    },
    {
      "cell_type": "code",
      "source": [
        "# working with other data types\n",
        "with open('sample.txt','w') as f:\n",
        "  f.write(5)"
      ],
      "metadata": {
        "colab": {
          "base_uri": "https://localhost:8080/",
          "height": 180
        },
        "id": "njyQwuU5caut",
        "outputId": "13c39990-cf53-48cd-f893-b7c6dafdb77e"
      },
      "execution_count": 20,
      "outputs": [
        {
          "output_type": "error",
          "ename": "TypeError",
          "evalue": "write() argument must be str, not int",
          "traceback": [
            "\u001b[0;31m---------------------------------------------------------------------------\u001b[0m",
            "\u001b[0;31mTypeError\u001b[0m                                 Traceback (most recent call last)",
            "\u001b[0;32m<ipython-input-20-a8e7a73b1431>\u001b[0m in \u001b[0;36m<cell line: 0>\u001b[0;34m()\u001b[0m\n\u001b[1;32m      1\u001b[0m \u001b[0;31m# working with other data types\u001b[0m\u001b[0;34m\u001b[0m\u001b[0;34m\u001b[0m\u001b[0m\n\u001b[1;32m      2\u001b[0m \u001b[0;32mwith\u001b[0m \u001b[0mopen\u001b[0m\u001b[0;34m(\u001b[0m\u001b[0;34m'sample.txt'\u001b[0m\u001b[0;34m,\u001b[0m\u001b[0;34m'w'\u001b[0m\u001b[0;34m)\u001b[0m \u001b[0;32mas\u001b[0m \u001b[0mf\u001b[0m\u001b[0;34m:\u001b[0m\u001b[0;34m\u001b[0m\u001b[0;34m\u001b[0m\u001b[0m\n\u001b[0;32m----> 3\u001b[0;31m   \u001b[0mf\u001b[0m\u001b[0;34m.\u001b[0m\u001b[0mwrite\u001b[0m\u001b[0;34m(\u001b[0m\u001b[0;36m5\u001b[0m\u001b[0;34m)\u001b[0m\u001b[0;34m\u001b[0m\u001b[0;34m\u001b[0m\u001b[0m\n\u001b[0m",
            "\u001b[0;31mTypeError\u001b[0m: write() argument must be str, not int"
          ]
        }
      ]
    },
    {
      "cell_type": "code",
      "source": [
        "with open('sample.txt','w') as f:\n",
        "  f.write('5')"
      ],
      "metadata": {
        "id": "NkNubQB-ce1W"
      },
      "execution_count": 21,
      "outputs": []
    },
    {
      "cell_type": "code",
      "source": [
        "with open('sample.txt','r') as f:\n",
        "  print(int(f.read()) + 5)"
      ],
      "metadata": {
        "colab": {
          "base_uri": "https://localhost:8080/"
        },
        "id": "VTe8qDgycf82",
        "outputId": "8f1837d4-1c1b-4445-9d2d-2ff37d61ff3c"
      },
      "execution_count": 22,
      "outputs": [
        {
          "output_type": "stream",
          "name": "stdout",
          "text": [
            "10\n"
          ]
        }
      ]
    },
    {
      "cell_type": "code",
      "source": [
        "# more complex data\n",
        "d = {\n",
        "    'name':'nitish',\n",
        "     'age':33,\n",
        "     'gender':'male'\n",
        "}\n",
        "\n",
        "with open('sample.txt','w') as f:\n",
        "  f.write(str(d))"
      ],
      "metadata": {
        "id": "AKWR93Ukcjp3"
      },
      "execution_count": 23,
      "outputs": []
    },
    {
      "cell_type": "code",
      "source": [
        "with open('sample.txt','r') as f:\n",
        "  print(dict(f.read()))"
      ],
      "metadata": {
        "colab": {
          "base_uri": "https://localhost:8080/",
          "height": 162
        },
        "id": "4q1GJtFdclho",
        "outputId": "fdbb0496-f1fd-474c-ddba-68bb8c78efc5"
      },
      "execution_count": 24,
      "outputs": [
        {
          "output_type": "error",
          "ename": "ValueError",
          "evalue": "dictionary update sequence element #0 has length 1; 2 is required",
          "traceback": [
            "\u001b[0;31m---------------------------------------------------------------------------\u001b[0m",
            "\u001b[0;31mValueError\u001b[0m                                Traceback (most recent call last)",
            "\u001b[0;32m<ipython-input-24-949b64f1fbe0>\u001b[0m in \u001b[0;36m<cell line: 0>\u001b[0;34m()\u001b[0m\n\u001b[1;32m      1\u001b[0m \u001b[0;32mwith\u001b[0m \u001b[0mopen\u001b[0m\u001b[0;34m(\u001b[0m\u001b[0;34m'sample.txt'\u001b[0m\u001b[0;34m,\u001b[0m\u001b[0;34m'r'\u001b[0m\u001b[0;34m)\u001b[0m \u001b[0;32mas\u001b[0m \u001b[0mf\u001b[0m\u001b[0;34m:\u001b[0m\u001b[0;34m\u001b[0m\u001b[0;34m\u001b[0m\u001b[0m\n\u001b[0;32m----> 2\u001b[0;31m   \u001b[0mprint\u001b[0m\u001b[0;34m(\u001b[0m\u001b[0mdict\u001b[0m\u001b[0;34m(\u001b[0m\u001b[0mf\u001b[0m\u001b[0;34m.\u001b[0m\u001b[0mread\u001b[0m\u001b[0;34m(\u001b[0m\u001b[0;34m)\u001b[0m\u001b[0;34m)\u001b[0m\u001b[0;34m)\u001b[0m\u001b[0;34m\u001b[0m\u001b[0;34m\u001b[0m\u001b[0m\n\u001b[0m",
            "\u001b[0;31mValueError\u001b[0m: dictionary update sequence element #0 has length 1; 2 is required"
          ]
        }
      ]
    },
    {
      "cell_type": "markdown",
      "source": [
        "# Serialization and Deserialization\n",
        "* Serialization - process of converting python data types to JSON format\n",
        "* Deserialization - process of converting JSON to python data types"
      ],
      "metadata": {
        "id": "lzpA0IVfcqlq"
      }
    },
    {
      "cell_type": "code",
      "source": [
        "# serialization using json module\n",
        "# list\n",
        "import json\n",
        "\n",
        "L = [1,2,3,4]\n",
        "\n",
        "with open('demo.json','w') as f:\n",
        "  json.dump(L,f)"
      ],
      "metadata": {
        "id": "db5qksNWcwgP"
      },
      "execution_count": 25,
      "outputs": []
    },
    {
      "cell_type": "code",
      "source": [
        "# dict\n",
        "d = {\n",
        "    'name':'nitish',\n",
        "     'age':33,\n",
        "     'gender':'male'\n",
        "}\n",
        "\n",
        "with open('demo.json','w') as f:\n",
        "  json.dump(d,f,indent=4)"
      ],
      "metadata": {
        "id": "pl5ZsgZLc0Ir"
      },
      "execution_count": 26,
      "outputs": []
    },
    {
      "cell_type": "code",
      "source": [
        "# deserialization\n",
        "import json\n",
        "\n",
        "with open('demo.json','r') as f:\n",
        "  d = json.load(f)\n",
        "  print(d)\n",
        "  print(type(d))"
      ],
      "metadata": {
        "colab": {
          "base_uri": "https://localhost:8080/"
        },
        "id": "agSntzkTc2U_",
        "outputId": "ff5611a1-1473-4b79-b789-5f0739e75e0f"
      },
      "execution_count": 27,
      "outputs": [
        {
          "output_type": "stream",
          "name": "stdout",
          "text": [
            "{'name': 'nitish', 'age': 33, 'gender': 'male'}\n",
            "<class 'dict'>\n"
          ]
        }
      ]
    },
    {
      "cell_type": "code",
      "source": [
        "# serialize and deserialize tuple\n",
        "import json\n",
        "\n",
        "t = (1,2,3,4,5)\n",
        "\n",
        "with open('demo.json','w') as f:\n",
        "  json.dump(t,f)"
      ],
      "metadata": {
        "id": "zn3WoQt5c4Sq"
      },
      "execution_count": 28,
      "outputs": []
    },
    {
      "cell_type": "code",
      "source": [
        "# serialize and deserialize a nested dict\n",
        "\n",
        "d = {\n",
        "    'student':'nitish',\n",
        "     'marks':[23,14,34,45,56]\n",
        "}\n",
        "\n",
        "with open('demo.json','w') as f:\n",
        "  json.dump(d,f)"
      ],
      "metadata": {
        "id": "IxVZ-W_5c7V4"
      },
      "execution_count": 29,
      "outputs": []
    },
    {
      "cell_type": "markdown",
      "source": [
        "# Serializing and Deserializing custom objects"
      ],
      "metadata": {
        "id": "zAiXMGRudJmK"
      }
    },
    {
      "cell_type": "code",
      "source": [
        "class Person:\n",
        "\n",
        "  def __init__(self,fname,lname,age,gender):\n",
        "    self.fname = fname\n",
        "    self.lname = lname\n",
        "    self.age = age\n",
        "    self.gender = gender"
      ],
      "metadata": {
        "id": "qhhEljJkdM_W"
      },
      "execution_count": 30,
      "outputs": []
    },
    {
      "cell_type": "code",
      "source": [
        "person = Person('Nitish','Singh',33,'male')"
      ],
      "metadata": {
        "id": "LczT9zgtdQkH"
      },
      "execution_count": 31,
      "outputs": []
    },
    {
      "cell_type": "code",
      "source": [
        "# As a string\n",
        "import json\n",
        "\n",
        "def show_object(person):\n",
        "  if isinstance(person,Person):\n",
        "    return \"{} {} age -> {} gender -> {}\".format(person.fname,person.lname,person.age,person.gender)\n",
        "\n",
        "with open('demo.json','w') as f:\n",
        "  json.dump(person,f,default=show_object)"
      ],
      "metadata": {
        "id": "1W4AuDd-dULu"
      },
      "execution_count": 32,
      "outputs": []
    },
    {
      "cell_type": "code",
      "source": [
        "# As a dict\n",
        "import json\n",
        "\n",
        "def show_object(person):\n",
        "  if isinstance(person,Person):\n",
        "    return {'name':person.fname + ' ' + person.lname,'age':person.age,'gender':person.gender}\n",
        "\n",
        "with open('demo.json','w') as f:\n",
        "  json.dump(person,f,default=show_object,indent=4)"
      ],
      "metadata": {
        "id": "RecjvbTLdVAF"
      },
      "execution_count": 33,
      "outputs": []
    },
    {
      "cell_type": "code",
      "source": [
        "# deserializing\n",
        "import json\n",
        "\n",
        "with open('demo.json','r') as f:\n",
        "  d = json.load(f)\n",
        "  print(d)\n",
        "  print(type(d))"
      ],
      "metadata": {
        "colab": {
          "base_uri": "https://localhost:8080/"
        },
        "id": "85Dcis0GdYPF",
        "outputId": "1605e4f6-17b4-4e50-84d7-499b75f12efa"
      },
      "execution_count": 34,
      "outputs": [
        {
          "output_type": "stream",
          "name": "stdout",
          "text": [
            "{'name': 'Nitish Singh', 'age': 33, 'gender': 'male'}\n",
            "<class 'dict'>\n"
          ]
        }
      ]
    },
    {
      "cell_type": "markdown",
      "source": [
        "# Pickling\n",
        "Pickling is the process whereby a Python object hierarchy is converted into a byte stream, and unpickling is the inverse operation, whereby a byte stream (from a binary file or bytes-like object) is converted back into an object hierarchy"
      ],
      "metadata": {
        "id": "MJ6TQh9RdeW_"
      }
    },
    {
      "cell_type": "code",
      "source": [
        "class Person:\n",
        "\n",
        "  def __init__(self,name,age):\n",
        "    self.name = name\n",
        "    self.age = age\n",
        "\n",
        "  def display_info(self):\n",
        "    print('Hi my name is',self.name,'and I am ',self.age,'years old')"
      ],
      "metadata": {
        "id": "vF0Cmjc7diaL"
      },
      "execution_count": 35,
      "outputs": []
    },
    {
      "cell_type": "code",
      "source": [
        "p = Person('nitish',33)"
      ],
      "metadata": {
        "id": "OPl0SK5-dmRf"
      },
      "execution_count": 36,
      "outputs": []
    },
    {
      "cell_type": "code",
      "source": [
        "# pickle dump\n",
        "import pickle\n",
        "with open('person.pkl','wb') as f:\n",
        "  pickle.dump(p,f)"
      ],
      "metadata": {
        "id": "s0_8gY-Adx9D"
      },
      "execution_count": 37,
      "outputs": []
    },
    {
      "cell_type": "code",
      "source": [
        "# pickle load\n",
        "import pickle\n",
        "with open('person.pkl','rb') as f:\n",
        "  p = pickle.load(f)\n",
        "\n",
        "p.display_info()"
      ],
      "metadata": {
        "colab": {
          "base_uri": "https://localhost:8080/"
        },
        "id": "Fd7KrlItdz6X",
        "outputId": "11967aad-b1da-43c2-a619-54591bebb70a"
      },
      "execution_count": 38,
      "outputs": [
        {
          "output_type": "stream",
          "name": "stdout",
          "text": [
            "Hi my name is nitish and I am  33 years old\n"
          ]
        }
      ]
    },
    {
      "cell_type": "markdown",
      "source": [
        "# Pickle Vs Json\n",
        "Pickle lets the user to store data in binary format. JSON lets the user store data in a human-readable text format."
      ],
      "metadata": {
        "id": "9tMmUViMd4ma"
      }
    }
  ]
}