{
  "nbformat": 4,
  "nbformat_minor": 0,
  "metadata": {
    "colab": {
      "provenance": []
    },
    "kernelspec": {
      "name": "python3",
      "display_name": "Python 3"
    },
    "language_info": {
      "name": "python"
    }
  },
  "cells": [
    {
      "cell_type": "markdown",
      "source": [
        "# Dictionary\n",
        "Dictionary in Python is a collection of keys values, used to store data values like a map, which, unlike other data types which hold only a single value as an element.\n",
        "\n",
        "In some languages it is known as map or assosiative arrays.\n",
        "\n",
        "dict = { 'name' : 'Ankit' , 'age' : 33 , 'gender' : 'male' }\n",
        "\n",
        "Characterstics:\n",
        "\n",
        "*Mutable\n",
        "* Indexing has no meaning\n",
        "* keys can't be duplicated\n",
        "* keys can't be mutable items"
      ],
      "metadata": {
        "id": "jyObo6IfCZEb"
      }
    },
    {
      "cell_type": "code",
      "source": [
        "# Creating Dictionary\n",
        "# empty dictionary\n",
        "d = {}\n",
        "d"
      ],
      "metadata": {
        "colab": {
          "base_uri": "https://localhost:8080/"
        },
        "id": "1_suX-7ICsVy",
        "outputId": "8788d2aa-2b5b-4ae0-f4ee-acda06f36bf3"
      },
      "execution_count": 2,
      "outputs": [
        {
          "output_type": "execute_result",
          "data": {
            "text/plain": [
              "{}"
            ]
          },
          "metadata": {},
          "execution_count": 2
        }
      ]
    },
    {
      "cell_type": "code",
      "source": [
        "# 2D dictionary -> JSON\n",
        "s = {\n",
        "    'name':'nitish',\n",
        "     'college':'bit',\n",
        "     'sem':4,\n",
        "     'subjects':{\n",
        "         'dsa':50,\n",
        "         'maths':67,\n",
        "         'english':34\n",
        "     }\n",
        "}\n",
        "s"
      ],
      "metadata": {
        "colab": {
          "base_uri": "https://localhost:8080/"
        },
        "id": "rizGL5bbCx8v",
        "outputId": "b1402708-bc02-4464-cffd-3056a4810a79"
      },
      "execution_count": 4,
      "outputs": [
        {
          "output_type": "execute_result",
          "data": {
            "text/plain": [
              "{'name': 'nitish',\n",
              " 'college': 'bit',\n",
              " 'sem': 4,\n",
              " 'subjects': {'dsa': 50, 'maths': 67, 'english': 34}}"
            ]
          },
          "metadata": {},
          "execution_count": 4
        }
      ]
    },
    {
      "cell_type": "code",
      "source": [
        "# using sequence and dict function\n",
        "d4 = dict([('name','nitish'),('age',32),(3,3)])\n",
        "d4"
      ],
      "metadata": {
        "colab": {
          "base_uri": "https://localhost:8080/"
        },
        "id": "oxc7FdM1C3Kf",
        "outputId": "cdc96845-ad7c-4b97-92ce-1dacf3d78cf6"
      },
      "execution_count": 5,
      "outputs": [
        {
          "output_type": "execute_result",
          "data": {
            "text/plain": [
              "{'name': 'nitish', 'age': 32, 3: 3}"
            ]
          },
          "metadata": {},
          "execution_count": 5
        }
      ]
    },
    {
      "cell_type": "code",
      "source": [
        "# duplicate keys\n",
        "d5 = {'name':'nitish','name':'rahul'}\n",
        "d5"
      ],
      "metadata": {
        "colab": {
          "base_uri": "https://localhost:8080/"
        },
        "id": "K74U4B_OC6QR",
        "outputId": "b2941357-15fe-46c9-a5bc-195a8397ca86"
      },
      "execution_count": 6,
      "outputs": [
        {
          "output_type": "execute_result",
          "data": {
            "text/plain": [
              "{'name': 'rahul'}"
            ]
          },
          "metadata": {},
          "execution_count": 6
        }
      ]
    },
    {
      "cell_type": "code",
      "source": [
        "# mutable items as keys\n",
        "d6 = {'name':'nitish',(1,2,3):2}\n",
        "print(d6)"
      ],
      "metadata": {
        "colab": {
          "base_uri": "https://localhost:8080/"
        },
        "id": "oQYdE2RBC9IQ",
        "outputId": "7fec58e2-abca-462c-e0a6-f0ed56344cc8"
      },
      "execution_count": 7,
      "outputs": [
        {
          "output_type": "stream",
          "name": "stdout",
          "text": [
            "{'name': 'nitish', (1, 2, 3): 2}\n"
          ]
        }
      ]
    },
    {
      "cell_type": "code",
      "source": [
        "# Accessing items\n",
        "my_dict = {'name': 'Jack', 'age': 26}\n",
        "# []\n",
        "my_dict['age']"
      ],
      "metadata": {
        "colab": {
          "base_uri": "https://localhost:8080/"
        },
        "id": "K28824HPC1ev",
        "outputId": "be9ed664-a2d8-4cb8-d1a3-d0de54c75c98"
      },
      "execution_count": 8,
      "outputs": [
        {
          "output_type": "execute_result",
          "data": {
            "text/plain": [
              "26"
            ]
          },
          "metadata": {},
          "execution_count": 8
        }
      ]
    },
    {
      "cell_type": "code",
      "source": [
        "# get\n",
        "my_dict.get('age')"
      ],
      "metadata": {
        "colab": {
          "base_uri": "https://localhost:8080/"
        },
        "id": "d2Afs2cQDYOE",
        "outputId": "ecf485a6-f81f-42b5-ab17-5e09e31caa64"
      },
      "execution_count": 9,
      "outputs": [
        {
          "output_type": "execute_result",
          "data": {
            "text/plain": [
              "26"
            ]
          },
          "metadata": {},
          "execution_count": 9
        }
      ]
    },
    {
      "cell_type": "code",
      "source": [
        "s['subjects']['maths']"
      ],
      "metadata": {
        "colab": {
          "base_uri": "https://localhost:8080/"
        },
        "id": "R-qKBcdMDaIs",
        "outputId": "6b310ade-29c0-4760-a3e5-692bb4de47d0"
      },
      "execution_count": 10,
      "outputs": [
        {
          "output_type": "execute_result",
          "data": {
            "text/plain": [
              "67"
            ]
          },
          "metadata": {},
          "execution_count": 10
        }
      ]
    },
    {
      "cell_type": "code",
      "source": [
        "# Adding key-value pair\n",
        "d4['gender'] = 'male'\n",
        "d4"
      ],
      "metadata": {
        "colab": {
          "base_uri": "https://localhost:8080/"
        },
        "id": "9CSuVsUADcIQ",
        "outputId": "05311162-fab4-44ca-8890-d7421d37507a"
      },
      "execution_count": 11,
      "outputs": [
        {
          "output_type": "execute_result",
          "data": {
            "text/plain": [
              "{'name': 'nitish', 'age': 32, 3: 3, 'gender': 'male'}"
            ]
          },
          "metadata": {},
          "execution_count": 11
        }
      ]
    },
    {
      "cell_type": "code",
      "source": [
        "d4['weight'] = 72\n",
        "d4"
      ],
      "metadata": {
        "colab": {
          "base_uri": "https://localhost:8080/"
        },
        "id": "oB7dAnDKDzH5",
        "outputId": "ac27c98b-4bbe-4ca2-8ff8-1f208de3c046"
      },
      "execution_count": 12,
      "outputs": [
        {
          "output_type": "execute_result",
          "data": {
            "text/plain": [
              "{'name': 'nitish', 'age': 32, 3: 3, 'gender': 'male', 'weight': 72}"
            ]
          },
          "metadata": {},
          "execution_count": 12
        }
      ]
    },
    {
      "cell_type": "code",
      "source": [
        "s['subjects']['ds'] = 75\n",
        "s"
      ],
      "metadata": {
        "colab": {
          "base_uri": "https://localhost:8080/"
        },
        "id": "gL_zTRKLD09h",
        "outputId": "a638ff34-f773-4661-dbb1-510ea79978f9"
      },
      "execution_count": 13,
      "outputs": [
        {
          "output_type": "execute_result",
          "data": {
            "text/plain": [
              "{'name': 'nitish',\n",
              " 'college': 'bit',\n",
              " 'sem': 4,\n",
              " 'subjects': {'dsa': 50, 'maths': 67, 'english': 34, 'ds': 75}}"
            ]
          },
          "metadata": {},
          "execution_count": 13
        }
      ]
    },
    {
      "cell_type": "code",
      "source": [
        "# Remove key-value pair\n",
        "d = {'name': 'nitish', 'age': 32, 3: 3, 'gender': 'male', 'weight': 72}\n",
        "# pop\n",
        "d.pop(3)\n",
        "print(d)"
      ],
      "metadata": {
        "colab": {
          "base_uri": "https://localhost:8080/"
        },
        "id": "dTtx8AR3D2_h",
        "outputId": "0c3ba8ca-cc21-4390-c3f2-3b91215e4114"
      },
      "execution_count": 14,
      "outputs": [
        {
          "output_type": "stream",
          "name": "stdout",
          "text": [
            "{'name': 'nitish', 'age': 32, 'gender': 'male', 'weight': 72}\n"
          ]
        }
      ]
    },
    {
      "cell_type": "code",
      "source": [
        "# popitem\n",
        "d.popitem()\n",
        "print(d)"
      ],
      "metadata": {
        "colab": {
          "base_uri": "https://localhost:8080/"
        },
        "id": "4GFLl4umEAEe",
        "outputId": "1c810465-f753-47fb-9398-869d23c45f77"
      },
      "execution_count": 15,
      "outputs": [
        {
          "output_type": "stream",
          "name": "stdout",
          "text": [
            "{'name': 'nitish', 'age': 32, 'gender': 'male'}\n"
          ]
        }
      ]
    },
    {
      "cell_type": "code",
      "source": [
        "# del\n",
        "del d['name']\n",
        "print(d)"
      ],
      "metadata": {
        "colab": {
          "base_uri": "https://localhost:8080/"
        },
        "id": "X4EJkNX2EJf_",
        "outputId": "c1ae9787-a10c-4919-f8ca-1292b77524ec"
      },
      "execution_count": 16,
      "outputs": [
        {
          "output_type": "stream",
          "name": "stdout",
          "text": [
            "{'age': 32, 'gender': 'male'}\n"
          ]
        }
      ]
    },
    {
      "cell_type": "code",
      "source": [
        "# clear\n",
        "d.clear()\n",
        "print(d)"
      ],
      "metadata": {
        "colab": {
          "base_uri": "https://localhost:8080/"
        },
        "id": "EQEGonUgENcI",
        "outputId": "af48ab6f-470b-41cf-b46d-888fb4b5a0c9"
      },
      "execution_count": 17,
      "outputs": [
        {
          "output_type": "stream",
          "name": "stdout",
          "text": [
            "{}\n"
          ]
        }
      ]
    },
    {
      "cell_type": "code",
      "source": [
        "del s['subjects']['maths']\n",
        "s"
      ],
      "metadata": {
        "colab": {
          "base_uri": "https://localhost:8080/"
        },
        "id": "xpPDa-6xEQFz",
        "outputId": "76102186-d9fa-42d7-f749-6db94df77be3"
      },
      "execution_count": 18,
      "outputs": [
        {
          "output_type": "execute_result",
          "data": {
            "text/plain": [
              "{'name': 'nitish',\n",
              " 'college': 'bit',\n",
              " 'sem': 4,\n",
              " 'subjects': {'dsa': 50, 'english': 34, 'ds': 75}}"
            ]
          },
          "metadata": {},
          "execution_count": 18
        }
      ]
    },
    {
      "cell_type": "code",
      "source": [
        "# Editing key-value pair\n",
        "s['subjects']['dsa'] = 80\n",
        "s"
      ],
      "metadata": {
        "colab": {
          "base_uri": "https://localhost:8080/"
        },
        "id": "xaWgPqpXER80",
        "outputId": "385bb4ae-20a8-45ed-ba2d-a2b10e59ce81"
      },
      "execution_count": 19,
      "outputs": [
        {
          "output_type": "execute_result",
          "data": {
            "text/plain": [
              "{'name': 'nitish',\n",
              " 'college': 'bit',\n",
              " 'sem': 4,\n",
              " 'subjects': {'dsa': 80, 'english': 34, 'ds': 75}}"
            ]
          },
          "metadata": {},
          "execution_count": 19
        }
      ]
    },
    {
      "cell_type": "code",
      "source": [
        "# Dictionary Operations\n",
        "# Membership\n",
        "print(s)\n",
        "\n",
        "'name' in s"
      ],
      "metadata": {
        "colab": {
          "base_uri": "https://localhost:8080/"
        },
        "id": "mny6iBrSEYjm",
        "outputId": "8609efc7-67fc-44c2-a329-cd0b183ce314"
      },
      "execution_count": 20,
      "outputs": [
        {
          "output_type": "stream",
          "name": "stdout",
          "text": [
            "{'name': 'nitish', 'college': 'bit', 'sem': 4, 'subjects': {'dsa': 80, 'english': 34, 'ds': 75}}\n"
          ]
        },
        {
          "output_type": "execute_result",
          "data": {
            "text/plain": [
              "True"
            ]
          },
          "metadata": {},
          "execution_count": 20
        }
      ]
    },
    {
      "cell_type": "code",
      "source": [
        "d = {'name':'nitish','gender':'male','age':33}\n",
        "\n",
        "for i in d:\n",
        "  print(i,d[i])"
      ],
      "metadata": {
        "colab": {
          "base_uri": "https://localhost:8080/"
        },
        "id": "jfukXOqcEnSP",
        "outputId": "63672cd3-047d-4a8f-df3a-7fbb4f60307b"
      },
      "execution_count": 21,
      "outputs": [
        {
          "output_type": "stream",
          "name": "stdout",
          "text": [
            "name nitish\n",
            "gender male\n",
            "age 33\n"
          ]
        }
      ]
    },
    {
      "cell_type": "code",
      "source": [
        "# len/sorted\n",
        "len(d)\n",
        "print(d)\n",
        "sorted(d,reverse=True)\n",
        "max(d)"
      ],
      "metadata": {
        "colab": {
          "base_uri": "https://localhost:8080/",
          "height": 53
        },
        "id": "eAqkMmZiEoNw",
        "outputId": "cadac916-21e7-4729-a378-58c9a2737aa5"
      },
      "execution_count": 22,
      "outputs": [
        {
          "output_type": "stream",
          "name": "stdout",
          "text": [
            "{'name': 'nitish', 'gender': 'male', 'age': 33}\n"
          ]
        },
        {
          "output_type": "execute_result",
          "data": {
            "text/plain": [
              "'name'"
            ],
            "application/vnd.google.colaboratory.intrinsic+json": {
              "type": "string"
            }
          },
          "metadata": {},
          "execution_count": 22
        }
      ]
    },
    {
      "cell_type": "code",
      "source": [
        "# items/keys/values\n",
        "print(d)\n",
        "\n",
        "print(d.items())\n",
        "print(d.keys())\n",
        "print(d.values())"
      ],
      "metadata": {
        "colab": {
          "base_uri": "https://localhost:8080/"
        },
        "id": "uf8kLVjrErq3",
        "outputId": "b3ef4160-285e-4fc2-b2bb-980e0c7b7e06"
      },
      "execution_count": 23,
      "outputs": [
        {
          "output_type": "stream",
          "name": "stdout",
          "text": [
            "{'name': 'nitish', 'gender': 'male', 'age': 33}\n",
            "dict_items([('name', 'nitish'), ('gender', 'male'), ('age', 33)])\n",
            "dict_keys(['name', 'gender', 'age'])\n",
            "dict_values(['nitish', 'male', 33])\n"
          ]
        }
      ]
    },
    {
      "cell_type": "code",
      "source": [
        "# update\n",
        "d1 = {1:2,3:4,4:5}\n",
        "d2 = {4:7,6:8}\n",
        "\n",
        "d1.update(d2)\n",
        "print(d1)"
      ],
      "metadata": {
        "colab": {
          "base_uri": "https://localhost:8080/"
        },
        "id": "aPXULJV4EuIP",
        "outputId": "6ee73842-90a2-41f5-bb14-6567c7563c3c"
      },
      "execution_count": 24,
      "outputs": [
        {
          "output_type": "stream",
          "name": "stdout",
          "text": [
            "{1: 2, 3: 4, 4: 7, 6: 8}\n"
          ]
        }
      ]
    },
    {
      "cell_type": "markdown",
      "source": [
        "# Dictionary Comprehension\n",
        "{key:value for vars in iterable}"
      ],
      "metadata": {
        "id": "j4cSOaRPEx7d"
      }
    },
    {
      "cell_type": "code",
      "source": [
        "# print 1st 10 numbers and their squares\n",
        "{i:i**2 for i in range(1,11)}"
      ],
      "metadata": {
        "colab": {
          "base_uri": "https://localhost:8080/"
        },
        "id": "B4aDrX64FASh",
        "outputId": "3f069123-146a-4740-ba47-892f77fdede9"
      },
      "execution_count": 25,
      "outputs": [
        {
          "output_type": "execute_result",
          "data": {
            "text/plain": [
              "{1: 1, 2: 4, 3: 9, 4: 16, 5: 25, 6: 36, 7: 49, 8: 64, 9: 81, 10: 100}"
            ]
          },
          "metadata": {},
          "execution_count": 25
        }
      ]
    },
    {
      "cell_type": "code",
      "source": [
        "distances = {'delhi':1000,'mumbai':2000,'bangalore':3000}\n",
        "print(distances.items())"
      ],
      "metadata": {
        "colab": {
          "base_uri": "https://localhost:8080/"
        },
        "id": "kux8wQ0jFXzG",
        "outputId": "024ada7b-61e2-4406-d7fa-a98b68bf3f94"
      },
      "execution_count": 26,
      "outputs": [
        {
          "output_type": "stream",
          "name": "stdout",
          "text": [
            "dict_items([('delhi', 1000), ('mumbai', 2000), ('bangalore', 3000)])\n"
          ]
        }
      ]
    },
    {
      "cell_type": "code",
      "source": [
        "# using existing dict\n",
        "distances = {'delhi':1000,'mumbai':2000,'bangalore':3000}\n",
        "{key:value*0.62 for (key,value) in distances.items()}"
      ],
      "metadata": {
        "colab": {
          "base_uri": "https://localhost:8080/"
        },
        "id": "i-SMnFwMFZt-",
        "outputId": "5ed7106c-9d7f-4d52-a1c0-fe0b19751ea8"
      },
      "execution_count": 27,
      "outputs": [
        {
          "output_type": "execute_result",
          "data": {
            "text/plain": [
              "{'delhi': 620.0, 'mumbai': 1240.0, 'bangalore': 1860.0}"
            ]
          },
          "metadata": {},
          "execution_count": 27
        }
      ]
    },
    {
      "cell_type": "code",
      "source": [
        "# using zip\n",
        "days = [\"Sunday\", \"Monday\",\"Tuesday\",\"Wednesday\",\"Thursday\",\"Friday\",\"Saturday\"]\n",
        "temp_C = [30.5,32.6,31.8,33.4,29.8,30.2,29.9]\n",
        "\n",
        "{i:j for (i,j) in zip(days,temp_C)}"
      ],
      "metadata": {
        "colab": {
          "base_uri": "https://localhost:8080/"
        },
        "id": "ooMU5d6TFb-e",
        "outputId": "537e5a4f-75d0-4c3c-d6a5-32fcbb462a45"
      },
      "execution_count": 28,
      "outputs": [
        {
          "output_type": "execute_result",
          "data": {
            "text/plain": [
              "{'Sunday': 30.5,\n",
              " 'Monday': 32.6,\n",
              " 'Tuesday': 31.8,\n",
              " 'Wednesday': 33.4,\n",
              " 'Thursday': 29.8,\n",
              " 'Friday': 30.2,\n",
              " 'Saturday': 29.9}"
            ]
          },
          "metadata": {},
          "execution_count": 28
        }
      ]
    },
    {
      "cell_type": "code",
      "source": [
        "# using if condition\n",
        "products = {'phone':10,'laptop':0,'charger':32,'tablet':0}\n",
        "\n",
        "{key:value for (key,value) in products.items() if value>0}"
      ],
      "metadata": {
        "colab": {
          "base_uri": "https://localhost:8080/"
        },
        "id": "EnPcwPv4FeFJ",
        "outputId": "0c333e56-8214-41e4-b8bb-d48901bcc4f4"
      },
      "execution_count": 29,
      "outputs": [
        {
          "output_type": "execute_result",
          "data": {
            "text/plain": [
              "{'phone': 10, 'charger': 32}"
            ]
          },
          "metadata": {},
          "execution_count": 29
        }
      ]
    },
    {
      "cell_type": "code",
      "source": [
        "# Nested Comprehension\n",
        "# print tables of number from 2 to 4\n",
        "{i:{j:i*j for j in range(1,11)} for i in range(2,5)}"
      ],
      "metadata": {
        "colab": {
          "base_uri": "https://localhost:8080/"
        },
        "id": "bkoj_rqXFiQA",
        "outputId": "bc997a77-a327-4b1b-c4d5-fa5fd4fbb3f6"
      },
      "execution_count": 30,
      "outputs": [
        {
          "output_type": "execute_result",
          "data": {
            "text/plain": [
              "{2: {1: 2, 2: 4, 3: 6, 4: 8, 5: 10, 6: 12, 7: 14, 8: 16, 9: 18, 10: 20},\n",
              " 3: {1: 3, 2: 6, 3: 9, 4: 12, 5: 15, 6: 18, 7: 21, 8: 24, 9: 27, 10: 30},\n",
              " 4: {1: 4, 2: 8, 3: 12, 4: 16, 5: 20, 6: 24, 7: 28, 8: 32, 9: 36, 10: 40}}"
            ]
          },
          "metadata": {},
          "execution_count": 30
        }
      ]
    }
  ]
}