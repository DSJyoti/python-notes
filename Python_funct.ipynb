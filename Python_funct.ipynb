{
  "nbformat": 4,
  "nbformat_minor": 0,
  "metadata": {
    "colab": {
      "provenance": []
    },
    "kernelspec": {
      "name": "python3",
      "display_name": "Python 3"
    },
    "language_info": {
      "name": "python"
    }
  },
  "cells": [
    {
      "cell_type": "markdown",
      "source": [
        "# Let's create a function(with docstring)"
      ],
      "metadata": {
        "id": "9F3gHI_gGsNy"
      }
    },
    {
      "cell_type": "code",
      "source": [
        "def is_even(num):\n",
        "  \"\"\"\n",
        "  This function returns if a given number is odd or even\n",
        "  input - any valid integer\n",
        "  output - odd/even\n",
        "\n",
        "  \"\"\"\n",
        "  if type(num) == int:\n",
        "    if num % 2 == 0:\n",
        "      return 'even'\n",
        "    else:\n",
        "      return 'odd'\n",
        "  else:\n",
        "    return 'pagal hai kya?'"
      ],
      "metadata": {
        "id": "ntb4MZ8rGtbY"
      },
      "execution_count": 1,
      "outputs": []
    },
    {
      "cell_type": "code",
      "source": [
        "# function\n",
        "is_even(24)\n"
      ],
      "metadata": {
        "colab": {
          "base_uri": "https://localhost:8080/",
          "height": 36
        },
        "id": "6KRqbHV3Gzni",
        "outputId": "4d74e0d8-80fc-4d68-e670-d72ac7a44d18"
      },
      "execution_count": 2,
      "outputs": [
        {
          "output_type": "execute_result",
          "data": {
            "text/plain": [
              "'even'"
            ],
            "application/vnd.google.colaboratory.intrinsic+json": {
              "type": "string"
            }
          },
          "metadata": {},
          "execution_count": 2
        }
      ]
    },
    {
      "cell_type": "code",
      "source": [
        "for i in range(1,11):\n",
        "  x = is_even(i)\n",
        "  print(x)"
      ],
      "metadata": {
        "colab": {
          "base_uri": "https://localhost:8080/"
        },
        "id": "wDzRwCBSG8qr",
        "outputId": "0ccd315c-22f1-463d-fc61-bc1fdce596e0"
      },
      "execution_count": 3,
      "outputs": [
        {
          "output_type": "stream",
          "name": "stdout",
          "text": [
            "odd\n",
            "even\n",
            "odd\n",
            "even\n",
            "odd\n",
            "even\n",
            "odd\n",
            "even\n",
            "odd\n",
            "even\n"
          ]
        }
      ]
    },
    {
      "cell_type": "code",
      "source": [
        "print(type.__doc__)"
      ],
      "metadata": {
        "colab": {
          "base_uri": "https://localhost:8080/"
        },
        "id": "BZoKqE02G_Z8",
        "outputId": "c580a7ab-f84c-4097-9200-286ceb1f8715"
      },
      "execution_count": 4,
      "outputs": [
        {
          "output_type": "stream",
          "name": "stdout",
          "text": [
            "type(object) -> the object's type\n",
            "type(name, bases, dict, **kwds) -> a new type\n"
          ]
        }
      ]
    },
    {
      "cell_type": "code",
      "source": [
        "is_even('hello')"
      ],
      "metadata": {
        "colab": {
          "base_uri": "https://localhost:8080/",
          "height": 36
        },
        "id": "Nwaye7cpHBN6",
        "outputId": "d3cd474c-69fb-4d98-9606-1ee29ec816b9"
      },
      "execution_count": 5,
      "outputs": [
        {
          "output_type": "execute_result",
          "data": {
            "text/plain": [
              "'pagal hai kya?'"
            ],
            "application/vnd.google.colaboratory.intrinsic+json": {
              "type": "string"
            }
          },
          "metadata": {},
          "execution_count": 5
        }
      ]
    },
    {
      "cell_type": "markdown",
      "source": [
        "## Parameters Vs Arguments\n",
        "# Types of Arguments\n",
        "* Default Argument\n",
        "* Positional Argument\n",
        "* Keyword Argument"
      ],
      "metadata": {
        "id": "ek4-wfYRHGjj"
      }
    },
    {
      "cell_type": "code",
      "source": [
        "def power(a=1,b=1):\n",
        "  return a**b"
      ],
      "metadata": {
        "id": "lvbhq97JHlJF"
      },
      "execution_count": 6,
      "outputs": []
    },
    {
      "cell_type": "code",
      "source": [
        "power()"
      ],
      "metadata": {
        "colab": {
          "base_uri": "https://localhost:8080/"
        },
        "id": "WHkc11OxHnsS",
        "outputId": "77fbecee-da15-4859-92ca-c0d8a9680f37"
      },
      "execution_count": 7,
      "outputs": [
        {
          "output_type": "execute_result",
          "data": {
            "text/plain": [
              "1"
            ]
          },
          "metadata": {},
          "execution_count": 7
        }
      ]
    },
    {
      "cell_type": "code",
      "source": [
        "# positional argument\n",
        "power(2,3)"
      ],
      "metadata": {
        "colab": {
          "base_uri": "https://localhost:8080/"
        },
        "id": "OCDV2HI8Hpta",
        "outputId": "21bca843-6746-4559-d224-c557f60a005d"
      },
      "execution_count": 8,
      "outputs": [
        {
          "output_type": "execute_result",
          "data": {
            "text/plain": [
              "8"
            ]
          },
          "metadata": {},
          "execution_count": 8
        }
      ]
    },
    {
      "cell_type": "code",
      "source": [
        "# keyword argument\n",
        "power(b=3,a=2)"
      ],
      "metadata": {
        "colab": {
          "base_uri": "https://localhost:8080/"
        },
        "id": "BTAHiVG4Hsdp",
        "outputId": "6a241649-fcc5-487d-844c-11bfa17156d9"
      },
      "execution_count": 9,
      "outputs": [
        {
          "output_type": "execute_result",
          "data": {
            "text/plain": [
              "8"
            ]
          },
          "metadata": {},
          "execution_count": 9
        }
      ]
    },
    {
      "cell_type": "markdown",
      "source": [
        "# *args and **kwargs\n",
        "*args and **kwargs are special Python keywords that are used to pass the variable length of arguments to a function"
      ],
      "metadata": {
        "id": "kMTZGEpsHzMb"
      }
    },
    {
      "cell_type": "code",
      "source": [
        "# *args\n",
        "# allows us to pass a variable number of non-keyword arguments to a function.\n",
        "\n",
        "def multiply(*kwargs):\n",
        "  product = 1\n",
        "\n",
        "  for i in kwargs:\n",
        "    product = product * i\n",
        "\n",
        "  print(kwargs)\n",
        "  return product"
      ],
      "metadata": {
        "id": "JAGeqDZOH1VW"
      },
      "execution_count": 10,
      "outputs": []
    },
    {
      "cell_type": "code",
      "source": [
        "multiply(1,2,3,4,5,6,7,8,9,10,12)"
      ],
      "metadata": {
        "colab": {
          "base_uri": "https://localhost:8080/"
        },
        "id": "VKPx4vFcIDqk",
        "outputId": "cbbe4c98-619b-4c02-9787-507a24610a69"
      },
      "execution_count": 11,
      "outputs": [
        {
          "output_type": "stream",
          "name": "stdout",
          "text": [
            "(1, 2, 3, 4, 5, 6, 7, 8, 9, 10, 12)\n"
          ]
        },
        {
          "output_type": "execute_result",
          "data": {
            "text/plain": [
              "43545600"
            ]
          },
          "metadata": {},
          "execution_count": 11
        }
      ]
    },
    {
      "cell_type": "code",
      "source": [
        "# **kwargs\n",
        "# **kwargs allows us to pass any number of keyword arguments.\n",
        "# Keyword arguments mean that they contain a key-value pair, like a Python dictionary.\n",
        "\n",
        "def display(**salman):\n",
        "\n",
        "  for (key,value) in salman.items():\n",
        "    print(key,'->',value)"
      ],
      "metadata": {
        "id": "hyPITRKUIEkD"
      },
      "execution_count": 12,
      "outputs": []
    },
    {
      "cell_type": "code",
      "source": [
        "display(india='delhi',srilanka='colombo',nepal='kathmandu',pakistan='islamabad')"
      ],
      "metadata": {
        "colab": {
          "base_uri": "https://localhost:8080/"
        },
        "id": "AKCaZuWGIKN7",
        "outputId": "cf49d280-5a9c-445f-fc76-e56a35b462f4"
      },
      "execution_count": 13,
      "outputs": [
        {
          "output_type": "stream",
          "name": "stdout",
          "text": [
            "india -> delhi\n",
            "srilanka -> colombo\n",
            "nepal -> kathmandu\n",
            "pakistan -> islamabad\n"
          ]
        }
      ]
    },
    {
      "cell_type": "markdown",
      "source": [
        "# Points to remember while using *args and **kwargs\n",
        "* order of the arguments matter(normal -> *args -> **kwargs)\n",
        "* The words “args” and “kwargs” are only a convention, you can use any name of your choice"
      ],
      "metadata": {
        "id": "pynewYSAINHX"
      }
    },
    {
      "cell_type": "code",
      "source": [
        "# Without return statement\n",
        "L = [1,2,3]\n",
        "print(L.append(4))\n",
        "print(L)"
      ],
      "metadata": {
        "colab": {
          "base_uri": "https://localhost:8080/"
        },
        "id": "TWUhsnBEIOqm",
        "outputId": "f4211e08-b660-4c4b-d2a7-17dec821a89a"
      },
      "execution_count": 14,
      "outputs": [
        {
          "output_type": "stream",
          "name": "stdout",
          "text": [
            "None\n",
            "[1, 2, 3, 4]\n"
          ]
        }
      ]
    },
    {
      "cell_type": "markdown",
      "source": [
        "# Variable Scope"
      ],
      "metadata": {
        "id": "ORWAfMz-IcYr"
      }
    },
    {
      "cell_type": "code",
      "source": [
        "def g(y):\n",
        "    print(x)\n",
        "    print(x+1)\n",
        "x = 5\n",
        "g(x)\n",
        "print(x)"
      ],
      "metadata": {
        "colab": {
          "base_uri": "https://localhost:8080/"
        },
        "id": "QbElzhKaIgMS",
        "outputId": "be582fa7-1786-40e8-c54f-938546014928"
      },
      "execution_count": 15,
      "outputs": [
        {
          "output_type": "stream",
          "name": "stdout",
          "text": [
            "5\n",
            "6\n",
            "5\n"
          ]
        }
      ]
    },
    {
      "cell_type": "code",
      "source": [
        "def f(y):\n",
        "    x = 1\n",
        "    x += 1\n",
        "    print(x)\n",
        "x = 5\n",
        "f(x)\n",
        "print(x)"
      ],
      "metadata": {
        "colab": {
          "base_uri": "https://localhost:8080/"
        },
        "id": "g_0EoVI7IirV",
        "outputId": "c8bd3d5d-fd9f-4d35-a8e4-d583fd4aa260"
      },
      "execution_count": 16,
      "outputs": [
        {
          "output_type": "stream",
          "name": "stdout",
          "text": [
            "2\n",
            "5\n"
          ]
        }
      ]
    },
    {
      "cell_type": "code",
      "source": [
        "def h(y):\n",
        "    x += 1\n",
        "x = 5\n",
        "h(x)\n",
        "print(x)"
      ],
      "metadata": {
        "colab": {
          "base_uri": "https://localhost:8080/",
          "height": 322
        },
        "id": "Lt8mfznsIkhB",
        "outputId": "a113bce1-15d7-4c30-8fc6-8436da03b167"
      },
      "execution_count": 17,
      "outputs": [
        {
          "output_type": "error",
          "ename": "UnboundLocalError",
          "evalue": "cannot access local variable 'x' where it is not associated with a value",
          "traceback": [
            "\u001b[0;31m---------------------------------------------------------------------------\u001b[0m",
            "\u001b[0;31mUnboundLocalError\u001b[0m                         Traceback (most recent call last)",
            "\u001b[0;32m<ipython-input-17-91d91a088cc2>\u001b[0m in \u001b[0;36m<cell line: 0>\u001b[0;34m()\u001b[0m\n\u001b[1;32m      2\u001b[0m     \u001b[0mx\u001b[0m \u001b[0;34m+=\u001b[0m \u001b[0;36m1\u001b[0m\u001b[0;34m\u001b[0m\u001b[0;34m\u001b[0m\u001b[0m\n\u001b[1;32m      3\u001b[0m \u001b[0mx\u001b[0m \u001b[0;34m=\u001b[0m \u001b[0;36m5\u001b[0m\u001b[0;34m\u001b[0m\u001b[0;34m\u001b[0m\u001b[0m\n\u001b[0;32m----> 4\u001b[0;31m \u001b[0mh\u001b[0m\u001b[0;34m(\u001b[0m\u001b[0mx\u001b[0m\u001b[0;34m)\u001b[0m\u001b[0;34m\u001b[0m\u001b[0;34m\u001b[0m\u001b[0m\n\u001b[0m\u001b[1;32m      5\u001b[0m \u001b[0mprint\u001b[0m\u001b[0;34m(\u001b[0m\u001b[0mx\u001b[0m\u001b[0;34m)\u001b[0m\u001b[0;34m\u001b[0m\u001b[0;34m\u001b[0m\u001b[0m\n",
            "\u001b[0;32m<ipython-input-17-91d91a088cc2>\u001b[0m in \u001b[0;36mh\u001b[0;34m(y)\u001b[0m\n\u001b[1;32m      1\u001b[0m \u001b[0;32mdef\u001b[0m \u001b[0mh\u001b[0m\u001b[0;34m(\u001b[0m\u001b[0my\u001b[0m\u001b[0;34m)\u001b[0m\u001b[0;34m:\u001b[0m\u001b[0;34m\u001b[0m\u001b[0;34m\u001b[0m\u001b[0m\n\u001b[0;32m----> 2\u001b[0;31m     \u001b[0mx\u001b[0m \u001b[0;34m+=\u001b[0m \u001b[0;36m1\u001b[0m\u001b[0;34m\u001b[0m\u001b[0;34m\u001b[0m\u001b[0m\n\u001b[0m\u001b[1;32m      3\u001b[0m \u001b[0mx\u001b[0m \u001b[0;34m=\u001b[0m \u001b[0;36m5\u001b[0m\u001b[0;34m\u001b[0m\u001b[0;34m\u001b[0m\u001b[0m\n\u001b[1;32m      4\u001b[0m \u001b[0mh\u001b[0m\u001b[0;34m(\u001b[0m\u001b[0mx\u001b[0m\u001b[0;34m)\u001b[0m\u001b[0;34m\u001b[0m\u001b[0;34m\u001b[0m\u001b[0m\n\u001b[1;32m      5\u001b[0m \u001b[0mprint\u001b[0m\u001b[0;34m(\u001b[0m\u001b[0mx\u001b[0m\u001b[0;34m)\u001b[0m\u001b[0;34m\u001b[0m\u001b[0;34m\u001b[0m\u001b[0m\n",
            "\u001b[0;31mUnboundLocalError\u001b[0m: cannot access local variable 'x' where it is not associated with a value"
          ]
        }
      ]
    },
    {
      "cell_type": "code",
      "source": [
        "def f(x):\n",
        "   x = x + 1\n",
        "   print('in f(x): x =', x)\n",
        "   return x\n",
        "\n",
        "x = 3\n",
        "z = f(x)\n",
        "print('in main program scope: z =', z)\n",
        "print('in main program scope: x =', x)"
      ],
      "metadata": {
        "colab": {
          "base_uri": "https://localhost:8080/"
        },
        "id": "jJps_C9xImmp",
        "outputId": "373c0281-f902-46b4-ba6d-8c23949e64a2"
      },
      "execution_count": 18,
      "outputs": [
        {
          "output_type": "stream",
          "name": "stdout",
          "text": [
            "in f(x): x = 4\n",
            "in main program scope: z = 4\n",
            "in main program scope: x = 3\n"
          ]
        }
      ]
    },
    {
      "cell_type": "code",
      "source": [
        "# Nested Function\n",
        "def f():\n",
        "  def g():\n",
        "    print('inside function g')\n",
        "    f()\n",
        "  g()\n",
        "  print('inside function f')"
      ],
      "metadata": {
        "id": "5vdO6RUKIpo5"
      },
      "execution_count": 19,
      "outputs": []
    },
    {
      "cell_type": "code",
      "source": [
        "f()"
      ],
      "metadata": {
        "colab": {
          "base_uri": "https://localhost:8080/",
          "height": 1000
        },
        "id": "AoH_1uvcI1Av",
        "outputId": "7615c74d-1d70-440f-fbba-221870d5bc64"
      },
      "execution_count": 20,
      "outputs": [
        {
          "output_type": "stream",
          "name": "stdout",
          "text": [
            "inside function g\n",
            "inside function g\n",
            "inside function g\n",
            "inside function g\n",
            "inside function g\n",
            "inside function g\n",
            "inside function g\n",
            "inside function g\n",
            "inside function g\n",
            "inside function g\n",
            "inside function g\n",
            "inside function g\n",
            "inside function g\n",
            "inside function g\n",
            "inside function g\n",
            "inside function g\n",
            "inside function g\n",
            "inside function g\n",
            "inside function g\n",
            "inside function g\n",
            "inside function g\n",
            "inside function g\n",
            "inside function g\n",
            "inside function g\n",
            "inside function g\n",
            "inside function g\n",
            "inside function g\n",
            "inside function g\n",
            "inside function g\n",
            "inside function g\n",
            "inside function g\n",
            "inside function g\n",
            "inside function g\n",
            "inside function g\n",
            "inside function g\n",
            "inside function g\n",
            "inside function g\n",
            "inside function g\n",
            "inside function g\n",
            "inside function g\n",
            "inside function g\n",
            "inside function g\n",
            "inside function g\n",
            "inside function g\n",
            "inside function g\n",
            "inside function g\n",
            "inside function g\n",
            "inside function g\n",
            "inside function g\n",
            "inside function g\n",
            "inside function g\n",
            "inside function g\n",
            "inside function g\n",
            "inside function g\n",
            "inside function g\n",
            "inside function g\n",
            "inside function g\n",
            "inside function g\n",
            "inside function g\n",
            "inside function g\n",
            "inside function g\n",
            "inside function g\n",
            "inside function g\n",
            "inside function g\n",
            "inside function g\n",
            "inside function g\n",
            "inside function g\n",
            "inside function g\n",
            "inside function g\n",
            "inside function g\n",
            "inside function g\n",
            "inside function g\n",
            "inside function g\n",
            "inside function g\n",
            "inside function g\n",
            "inside function g\n",
            "inside function g\n",
            "inside function g\n",
            "inside function g\n",
            "inside function g\n",
            "inside function g\n",
            "inside function g\n",
            "inside function g\n",
            "inside function g\n",
            "inside function g\n",
            "inside function g\n",
            "inside function g\n",
            "inside function g\n",
            "inside function g\n",
            "inside function g\n",
            "inside function g\n",
            "inside function g\n",
            "inside function g\n",
            "inside function g\n",
            "inside function g\n",
            "inside function g\n",
            "inside function g\n",
            "inside function g\n",
            "inside function g\n",
            "inside function g\n",
            "inside function g\n",
            "inside function g\n",
            "inside function g\n",
            "inside function g\n",
            "inside function g\n",
            "inside function g\n",
            "inside function g\n",
            "inside function g\n",
            "inside function g\n",
            "inside function g\n",
            "inside function g\n",
            "inside function g\n",
            "inside function g\n",
            "inside function g\n",
            "inside function g\n",
            "inside function g\n",
            "inside function g\n",
            "inside function g\n",
            "inside function g\n",
            "inside function g\n",
            "inside function g\n",
            "inside function g\n",
            "inside function g\n",
            "inside function g\n",
            "inside function g\n",
            "inside function g\n",
            "inside function g\n",
            "inside function g\n",
            "inside function g\n",
            "inside function g\n",
            "inside function g\n",
            "inside function g\n",
            "inside function g\n",
            "inside function g\n",
            "inside function g\n",
            "inside function g\n",
            "inside function g\n",
            "inside function g\n",
            "inside function g\n",
            "inside function g\n",
            "inside function g\n",
            "inside function g\n",
            "inside function g\n",
            "inside function g\n",
            "inside function g\n",
            "inside function g\n",
            "inside function g\n",
            "inside function g\n",
            "inside function g\n",
            "inside function g\n",
            "inside function g\n",
            "inside function g\n",
            "inside function g\n",
            "inside function g\n",
            "inside function g\n",
            "inside function g\n",
            "inside function g\n",
            "inside function g\n",
            "inside function g\n",
            "inside function g\n",
            "inside function g\n",
            "inside function g\n",
            "inside function g\n",
            "inside function g\n",
            "inside function g\n",
            "inside function g\n",
            "inside function g\n",
            "inside function g\n",
            "inside function g\n",
            "inside function g\n",
            "inside function g\n",
            "inside function g\n",
            "inside function g\n",
            "inside function g\n",
            "inside function g\n",
            "inside function g\n",
            "inside function g\n",
            "inside function g\n",
            "inside function g\n",
            "inside function g\n",
            "inside function g\n",
            "inside function g\n",
            "inside function g\n",
            "inside function g\n",
            "inside function g\n",
            "inside function g\n",
            "inside function g\n",
            "inside function g\n",
            "inside function g\n",
            "inside function g\n",
            "inside function g\n",
            "inside function g\n",
            "inside function g\n",
            "inside function g\n",
            "inside function g\n",
            "inside function g\n",
            "inside function g\n",
            "inside function g\n",
            "inside function g\n",
            "inside function g\n",
            "inside function g\n",
            "inside function g\n",
            "inside function g\n",
            "inside function g\n",
            "inside function g\n",
            "inside function g\n",
            "inside function g\n",
            "inside function g\n",
            "inside function g\n",
            "inside function g\n",
            "inside function g\n",
            "inside function g\n",
            "inside function g\n",
            "inside function g\n",
            "inside function g\n",
            "inside function g\n",
            "inside function g\n",
            "inside function g\n",
            "inside function g\n",
            "inside function g\n",
            "inside function g\n",
            "inside function g\n",
            "inside function g\n",
            "inside function g\n",
            "inside function g\n",
            "inside function g\n",
            "inside function g\n",
            "inside function g\n",
            "inside function g\n",
            "inside function g\n",
            "inside function g\n",
            "inside function g\n",
            "inside function g\n",
            "inside function g\n",
            "inside function g\n",
            "inside function g\n",
            "inside function g\n",
            "inside function g\n",
            "inside function g\n",
            "inside function g\n",
            "inside function g\n",
            "inside function g\n",
            "inside function g\n",
            "inside function g\n",
            "inside function g\n",
            "inside function g\n",
            "inside function g\n",
            "inside function g\n",
            "inside function g\n",
            "inside function g\n",
            "inside function g\n",
            "inside function g\n",
            "inside function g\n",
            "inside function g\n",
            "inside function g\n",
            "inside function g\n",
            "inside function g\n",
            "inside function g\n",
            "inside function g\n",
            "inside function g\n",
            "inside function g\n",
            "inside function g\n",
            "inside function g\n",
            "inside function g\n",
            "inside function g\n",
            "inside function g\n",
            "inside function g\n",
            "inside function g\n",
            "inside function g\n",
            "inside function g\n",
            "inside function g\n",
            "inside function g\n",
            "inside function g\n",
            "inside function g\n",
            "inside function g\n",
            "inside function g\n",
            "inside function g\n",
            "inside function g\n",
            "inside function g\n",
            "inside function g\n",
            "inside function g\n",
            "inside function g\n",
            "inside function g\n",
            "inside function g\n",
            "inside function g\n",
            "inside function g\n",
            "inside function g\n",
            "inside function g\n",
            "inside function g\n",
            "inside function g\n",
            "inside function g\n",
            "inside function g\n",
            "inside function g\n",
            "inside function g\n",
            "inside function g\n",
            "inside function g\n",
            "inside function g\n",
            "inside function g\n",
            "inside function g\n",
            "inside function g\n",
            "inside function g\n",
            "inside function g\n",
            "inside function g\n",
            "inside function g\n",
            "inside function g\n",
            "inside function g\n",
            "inside function g\n",
            "inside function g\n",
            "inside function g\n",
            "inside function g\n",
            "inside function g\n",
            "inside function g\n",
            "inside function g\n",
            "inside function g\n",
            "inside function g\n",
            "inside function g\n",
            "inside function g\n",
            "inside function g\n",
            "inside function g\n",
            "inside function g\n",
            "inside function g\n",
            "inside function g\n",
            "inside function g\n",
            "inside function g\n",
            "inside function g\n",
            "inside function g\n",
            "inside function g\n",
            "inside function g\n",
            "inside function g\n",
            "inside function g\n",
            "inside function g\n",
            "inside function g\n",
            "inside function g\n",
            "inside function g\n",
            "inside function g\n",
            "inside function g\n",
            "inside function g\n",
            "inside function g\n",
            "inside function g\n",
            "inside function g\n",
            "inside function g\n",
            "inside function g\n",
            "inside function g\n",
            "inside function g\n",
            "inside function g\n",
            "inside function g\n",
            "inside function g\n",
            "inside function g\n",
            "inside function g\n",
            "inside function g\n",
            "inside function g\n",
            "inside function g\n",
            "inside function g\n",
            "inside function g\n",
            "inside function g\n",
            "inside function g\n",
            "inside function g\n",
            "inside function g\n",
            "inside function g\n",
            "inside function g\n",
            "inside function g\n",
            "inside function g\n",
            "inside function g\n",
            "inside function g\n",
            "inside function g\n",
            "inside function g\n",
            "inside function g\n",
            "inside function g\n",
            "inside function g\n",
            "inside function g\n",
            "inside function g\n",
            "inside function g\n",
            "inside function g\n",
            "inside function g\n",
            "inside function g\n",
            "inside function g\n",
            "inside function g\n",
            "inside function g\n",
            "inside function g\n",
            "inside function g\n",
            "inside function g\n",
            "inside function g\n",
            "inside function g\n",
            "inside function g\n",
            "inside function g\n",
            "inside function g\n",
            "inside function g\n",
            "inside function g\n",
            "inside function g\n",
            "inside function g\n",
            "inside function g\n",
            "inside function g\n",
            "inside function g\n",
            "inside function g\n",
            "inside function g\n",
            "inside function g\n",
            "inside function g\n",
            "inside function g\n",
            "inside function g\n",
            "inside function g\n",
            "inside function g\n",
            "inside function g\n",
            "inside function g\n",
            "inside function g\n",
            "inside function g\n",
            "inside function g\n",
            "inside function g\n",
            "inside function g\n",
            "inside function g\n",
            "inside function g\n",
            "inside function g\n",
            "inside function g\n",
            "inside function g\n",
            "inside function g\n",
            "inside function g\n",
            "inside function g\n",
            "inside function g\n",
            "inside function g\n",
            "inside function g\n",
            "inside function g\n",
            "inside function g\n",
            "inside function g\n",
            "inside function g\n",
            "inside function g\n",
            "inside function g\n",
            "inside function g\n",
            "inside function g\n",
            "inside function g\n",
            "inside function g\n",
            "inside function g\n",
            "inside function g\n",
            "inside function g\n",
            "inside function g\n",
            "inside function g\n",
            "inside function g\n",
            "inside function g\n",
            "inside function g\n",
            "inside function g\n",
            "inside function g\n",
            "inside function g\n",
            "inside function g\n",
            "inside function g\n",
            "inside function g\n",
            "inside function g\n",
            "inside function g\n",
            "inside function g\n",
            "inside function g\n",
            "inside function g\n",
            "inside function g\n",
            "inside function g\n",
            "inside function g\n",
            "inside function g\n",
            "inside function g\n",
            "inside function g\n",
            "inside function g\n",
            "inside function g\n",
            "inside function g\n",
            "inside function g\n",
            "inside function g\n",
            "inside function g\n",
            "inside function g\n",
            "inside function g\n",
            "inside function g\n",
            "inside function g\n",
            "inside function g\n",
            "inside function g\n",
            "inside function g\n",
            "inside function g\n",
            "inside function g\n",
            "inside function g\n",
            "inside function g\n",
            "inside function g\n",
            "inside function g\n",
            "inside function g\n",
            "inside function g\n",
            "inside function g\n",
            "inside function g\n",
            "inside function g\n",
            "inside function g\n",
            "inside function g\n",
            "inside function g\n",
            "inside function g\n",
            "inside function g\n",
            "inside function g\n",
            "inside function g\n"
          ]
        },
        {
          "output_type": "error",
          "ename": "RecursionError",
          "evalue": "maximum recursion depth exceeded while calling a Python object",
          "traceback": [
            "\u001b[0;31m---------------------------------------------------------------------------\u001b[0m",
            "\u001b[0;31mRecursionError\u001b[0m                            Traceback (most recent call last)",
            "\u001b[0;32m<ipython-input-20-c43e34e6d405>\u001b[0m in \u001b[0;36m<cell line: 0>\u001b[0;34m()\u001b[0m\n\u001b[0;32m----> 1\u001b[0;31m \u001b[0mf\u001b[0m\u001b[0;34m(\u001b[0m\u001b[0;34m)\u001b[0m\u001b[0;34m\u001b[0m\u001b[0;34m\u001b[0m\u001b[0m\n\u001b[0m",
            "\u001b[0;32m<ipython-input-19-df6eb4cb941c>\u001b[0m in \u001b[0;36mf\u001b[0;34m()\u001b[0m\n\u001b[1;32m      4\u001b[0m     \u001b[0mprint\u001b[0m\u001b[0;34m(\u001b[0m\u001b[0;34m'inside function g'\u001b[0m\u001b[0;34m)\u001b[0m\u001b[0;34m\u001b[0m\u001b[0;34m\u001b[0m\u001b[0m\n\u001b[1;32m      5\u001b[0m     \u001b[0mf\u001b[0m\u001b[0;34m(\u001b[0m\u001b[0;34m)\u001b[0m\u001b[0;34m\u001b[0m\u001b[0;34m\u001b[0m\u001b[0m\n\u001b[0;32m----> 6\u001b[0;31m   \u001b[0mg\u001b[0m\u001b[0;34m(\u001b[0m\u001b[0;34m)\u001b[0m\u001b[0;34m\u001b[0m\u001b[0;34m\u001b[0m\u001b[0m\n\u001b[0m\u001b[1;32m      7\u001b[0m   \u001b[0mprint\u001b[0m\u001b[0;34m(\u001b[0m\u001b[0;34m'inside function f'\u001b[0m\u001b[0;34m)\u001b[0m\u001b[0;34m\u001b[0m\u001b[0;34m\u001b[0m\u001b[0m\n",
            "\u001b[0;32m<ipython-input-19-df6eb4cb941c>\u001b[0m in \u001b[0;36mg\u001b[0;34m()\u001b[0m\n\u001b[1;32m      3\u001b[0m   \u001b[0;32mdef\u001b[0m \u001b[0mg\u001b[0m\u001b[0;34m(\u001b[0m\u001b[0;34m)\u001b[0m\u001b[0;34m:\u001b[0m\u001b[0;34m\u001b[0m\u001b[0;34m\u001b[0m\u001b[0m\n\u001b[1;32m      4\u001b[0m     \u001b[0mprint\u001b[0m\u001b[0;34m(\u001b[0m\u001b[0;34m'inside function g'\u001b[0m\u001b[0;34m)\u001b[0m\u001b[0;34m\u001b[0m\u001b[0;34m\u001b[0m\u001b[0m\n\u001b[0;32m----> 5\u001b[0;31m     \u001b[0mf\u001b[0m\u001b[0;34m(\u001b[0m\u001b[0;34m)\u001b[0m\u001b[0;34m\u001b[0m\u001b[0;34m\u001b[0m\u001b[0m\n\u001b[0m\u001b[1;32m      6\u001b[0m   \u001b[0mg\u001b[0m\u001b[0;34m(\u001b[0m\u001b[0;34m)\u001b[0m\u001b[0;34m\u001b[0m\u001b[0;34m\u001b[0m\u001b[0m\n\u001b[1;32m      7\u001b[0m   \u001b[0mprint\u001b[0m\u001b[0;34m(\u001b[0m\u001b[0;34m'inside function f'\u001b[0m\u001b[0;34m)\u001b[0m\u001b[0;34m\u001b[0m\u001b[0;34m\u001b[0m\u001b[0m\n",
            "... last 2 frames repeated, from the frame below ...\n",
            "\u001b[0;32m<ipython-input-19-df6eb4cb941c>\u001b[0m in \u001b[0;36mf\u001b[0;34m()\u001b[0m\n\u001b[1;32m      4\u001b[0m     \u001b[0mprint\u001b[0m\u001b[0;34m(\u001b[0m\u001b[0;34m'inside function g'\u001b[0m\u001b[0;34m)\u001b[0m\u001b[0;34m\u001b[0m\u001b[0;34m\u001b[0m\u001b[0m\n\u001b[1;32m      5\u001b[0m     \u001b[0mf\u001b[0m\u001b[0;34m(\u001b[0m\u001b[0;34m)\u001b[0m\u001b[0;34m\u001b[0m\u001b[0;34m\u001b[0m\u001b[0m\n\u001b[0;32m----> 6\u001b[0;31m   \u001b[0mg\u001b[0m\u001b[0;34m(\u001b[0m\u001b[0;34m)\u001b[0m\u001b[0;34m\u001b[0m\u001b[0;34m\u001b[0m\u001b[0m\n\u001b[0m\u001b[1;32m      7\u001b[0m   \u001b[0mprint\u001b[0m\u001b[0;34m(\u001b[0m\u001b[0;34m'inside function f'\u001b[0m\u001b[0;34m)\u001b[0m\u001b[0;34m\u001b[0m\u001b[0;34m\u001b[0m\u001b[0m\n",
            "\u001b[0;31mRecursionError\u001b[0m: maximum recursion depth exceeded while calling a Python object"
          ]
        }
      ]
    },
    {
      "cell_type": "code",
      "source": [
        "def g(x):\n",
        "    def h():\n",
        "        x = 'abc'\n",
        "    x = x + 1\n",
        "    print('in g(x): x =', x)\n",
        "    h()\n",
        "    return x"
      ],
      "metadata": {
        "id": "OlUVt7e-I2oH"
      },
      "execution_count": 21,
      "outputs": []
    },
    {
      "cell_type": "code",
      "source": [
        "x = 3\n",
        "z = g(x)"
      ],
      "metadata": {
        "colab": {
          "base_uri": "https://localhost:8080/"
        },
        "id": "MxeKcqlaI6RW",
        "outputId": "1aea2920-3439-49c8-ac94-934d2d8c25e7"
      },
      "execution_count": 22,
      "outputs": [
        {
          "output_type": "stream",
          "name": "stdout",
          "text": [
            "in g(x): x = 4\n"
          ]
        }
      ]
    },
    {
      "cell_type": "code",
      "source": [
        "def g(x):\n",
        "    def h(x):\n",
        "        x = x+1\n",
        "        print(\"in h(x): x = \", x)\n",
        "    x = x + 1\n",
        "    print('in g(x): x = ', x)\n",
        "    h(x)\n",
        "    return x\n"
      ],
      "metadata": {
        "id": "3ehlFOg_I8ot"
      },
      "execution_count": 23,
      "outputs": []
    },
    {
      "cell_type": "code",
      "source": [
        "x = 3\n",
        "z = g(x)\n",
        "print('in main program scope: x = ', x)\n",
        "print('in main program scope: z = ', z)"
      ],
      "metadata": {
        "colab": {
          "base_uri": "https://localhost:8080/"
        },
        "id": "JyPQzYolI_il",
        "outputId": "1eff5521-c1bc-421c-8b91-5dc597c36fb6"
      },
      "execution_count": 24,
      "outputs": [
        {
          "output_type": "stream",
          "name": "stdout",
          "text": [
            "in g(x): x =  4\n",
            "in h(x): x =  5\n",
            "in main program scope: x =  3\n",
            "in main program scope: z =  4\n"
          ]
        }
      ]
    },
    {
      "cell_type": "markdown",
      "source": [
        "# Functions are 1st class citizens"
      ],
      "metadata": {
        "id": "dVFGjQHZJEJ-"
      }
    },
    {
      "cell_type": "code",
      "source": [
        "# type and id\n",
        "def square(num):\n",
        "  return num**2\n",
        "\n",
        "type(square)\n",
        "\n",
        "id(square)"
      ],
      "metadata": {
        "colab": {
          "base_uri": "https://localhost:8080/"
        },
        "id": "UCcNCSshJGfz",
        "outputId": "cb56cc90-e154-43c3-b19a-cd82d6ecb6a4"
      },
      "execution_count": 30,
      "outputs": [
        {
          "output_type": "execute_result",
          "data": {
            "text/plain": [
              "137803557221888"
            ]
          },
          "metadata": {},
          "execution_count": 30
        }
      ]
    },
    {
      "cell_type": "code",
      "source": [
        "# reassign\n",
        "x = square\n",
        "id(x)\n",
        "x(3)"
      ],
      "metadata": {
        "colab": {
          "base_uri": "https://localhost:8080/"
        },
        "id": "6dVX7MRRJJDH",
        "outputId": "146e6bb8-a43d-4a01-be3a-7d2ac55e6ae1"
      },
      "execution_count": 31,
      "outputs": [
        {
          "output_type": "execute_result",
          "data": {
            "text/plain": [
              "9"
            ]
          },
          "metadata": {},
          "execution_count": 31
        }
      ]
    },
    {
      "cell_type": "code",
      "source": [
        "a = 2\n",
        "b = a\n",
        "b"
      ],
      "metadata": {
        "colab": {
          "base_uri": "https://localhost:8080/"
        },
        "id": "Vdzy-52RJLke",
        "outputId": "256eeb5a-5b44-45dd-a428-1fbdbfe75de4"
      },
      "execution_count": 27,
      "outputs": [
        {
          "output_type": "execute_result",
          "data": {
            "text/plain": [
              "2"
            ]
          },
          "metadata": {},
          "execution_count": 27
        }
      ]
    },
    {
      "cell_type": "code",
      "source": [
        "# deleting a function\n",
        "del square"
      ],
      "metadata": {
        "id": "wQmvVt80JOuP"
      },
      "execution_count": 28,
      "outputs": []
    },
    {
      "cell_type": "code",
      "source": [
        "square(3)"
      ],
      "metadata": {
        "colab": {
          "base_uri": "https://localhost:8080/",
          "height": 144
        },
        "id": "0bksScRJJSr_",
        "outputId": "95302ce2-f052-4366-bf03-402e7301b8b5"
      },
      "execution_count": 29,
      "outputs": [
        {
          "output_type": "error",
          "ename": "NameError",
          "evalue": "name 'square' is not defined",
          "traceback": [
            "\u001b[0;31m---------------------------------------------------------------------------\u001b[0m",
            "\u001b[0;31mNameError\u001b[0m                                 Traceback (most recent call last)",
            "\u001b[0;32m<ipython-input-29-2cfd8bba3a88>\u001b[0m in \u001b[0;36m<cell line: 0>\u001b[0;34m()\u001b[0m\n\u001b[0;32m----> 1\u001b[0;31m \u001b[0msquare\u001b[0m\u001b[0;34m(\u001b[0m\u001b[0;36m3\u001b[0m\u001b[0;34m)\u001b[0m\u001b[0;34m\u001b[0m\u001b[0;34m\u001b[0m\u001b[0m\n\u001b[0m",
            "\u001b[0;31mNameError\u001b[0m: name 'square' is not defined"
          ]
        }
      ]
    },
    {
      "cell_type": "code",
      "source": [
        "# storing\n",
        "L = [1,2,3,4,square]\n",
        "L[-1](3)"
      ],
      "metadata": {
        "colab": {
          "base_uri": "https://localhost:8080/"
        },
        "id": "HZbROCAUJZSo",
        "outputId": "b2663bb4-b0a9-495c-d29f-9375d88c2c52"
      },
      "execution_count": 32,
      "outputs": [
        {
          "output_type": "execute_result",
          "data": {
            "text/plain": [
              "9"
            ]
          },
          "metadata": {},
          "execution_count": 32
        }
      ]
    },
    {
      "cell_type": "code",
      "source": [
        "s = {square}\n",
        "s"
      ],
      "metadata": {
        "colab": {
          "base_uri": "https://localhost:8080/"
        },
        "id": "Ppn_U9a8JbJE",
        "outputId": "b2da78b8-dd31-4724-def2-30befcfb9409"
      },
      "execution_count": 33,
      "outputs": [
        {
          "output_type": "execute_result",
          "data": {
            "text/plain": [
              "{<function __main__.square(num)>}"
            ]
          },
          "metadata": {},
          "execution_count": 33
        }
      ]
    },
    {
      "cell_type": "code",
      "source": [
        "def f():\n",
        "    def x(a, b):\n",
        "        return a+b\n",
        "    return x\n",
        "\n",
        "val = f()(3,4)\n",
        "print(val)"
      ],
      "metadata": {
        "colab": {
          "base_uri": "https://localhost:8080/"
        },
        "id": "Q0-dcbL-JcxJ",
        "outputId": "c468cae4-7bd2-4680-ab6d-5aecdfbb6325"
      },
      "execution_count": 34,
      "outputs": [
        {
          "output_type": "stream",
          "name": "stdout",
          "text": [
            "7\n"
          ]
        }
      ]
    },
    {
      "cell_type": "code",
      "source": [
        "def func_a():\n",
        "    print('inside func_a')\n",
        "\n",
        "def func_b(z):\n",
        "    print('inside func_c')\n",
        "    return z()\n",
        "\n",
        "print(func_b(func_a))"
      ],
      "metadata": {
        "colab": {
          "base_uri": "https://localhost:8080/"
        },
        "id": "4gzAx6zcJfXp",
        "outputId": "e1ec73d3-7cd3-49bd-e377-483aceaa7150"
      },
      "execution_count": 35,
      "outputs": [
        {
          "output_type": "stream",
          "name": "stdout",
          "text": [
            "inside func_c\n",
            "inside func_a\n",
            "None\n"
          ]
        }
      ]
    },
    {
      "cell_type": "markdown",
      "source": [
        "# Benefits of using a Function\n",
        "* Code Modularity\n",
        "* Code Readibility\n",
        "* Code Reusability"
      ],
      "metadata": {
        "id": "l9S2vdlhJigJ"
      }
    },
    {
      "cell_type": "markdown",
      "source": [
        "# Lambda Function\n",
        "A lambda function is a small anonymous function.\n",
        "\n",
        "A lambda function can take any number of arguments, but can only have one expression\n",
        "\n",
        "lambda a,b:a+b"
      ],
      "metadata": {
        "id": "Jr8-J724JsIc"
      }
    },
    {
      "cell_type": "code",
      "source": [
        "# x -> x^2\n",
        "lambda x:x**2"
      ],
      "metadata": {
        "colab": {
          "base_uri": "https://localhost:8080/"
        },
        "id": "Ieg6gOcpJ27T",
        "outputId": "ebcba97e-0d04-4cc7-c7b5-9c19f52ccd21"
      },
      "execution_count": 36,
      "outputs": [
        {
          "output_type": "execute_result",
          "data": {
            "text/plain": [
              "<function __main__.<lambda>(x)>"
            ]
          },
          "metadata": {},
          "execution_count": 36
        }
      ]
    },
    {
      "cell_type": "code",
      "source": [
        "# x,y -> x+y\n",
        "a = lambda x,y:x+y\n",
        "a(5,2)"
      ],
      "metadata": {
        "colab": {
          "base_uri": "https://localhost:8080/"
        },
        "id": "e-QIIrdJKAU-",
        "outputId": "3db6fd74-87e4-43ec-e3fa-26930e1be0f0"
      },
      "execution_count": 37,
      "outputs": [
        {
          "output_type": "execute_result",
          "data": {
            "text/plain": [
              "7"
            ]
          },
          "metadata": {},
          "execution_count": 37
        }
      ]
    },
    {
      "cell_type": "markdown",
      "source": [
        "# Diff between lambda vs Normal Function\n",
        "* No name\n",
        "* lambda has no return value(infact,returns a function)\n",
        "* lambda is written in 1 line\n",
        "* not reusable"
      ],
      "metadata": {
        "id": "etfdxxGhKOPo"
      }
    },
    {
      "cell_type": "code",
      "source": [
        "# check if a string has 'a'\n",
        "a = lambda s:'a' in s\n",
        "a('hello')"
      ],
      "metadata": {
        "colab": {
          "base_uri": "https://localhost:8080/"
        },
        "id": "tU_1r5KMKTpq",
        "outputId": "872ed158-7ff0-418e-eaee-e51fa85aaa2b"
      },
      "execution_count": 39,
      "outputs": [
        {
          "output_type": "execute_result",
          "data": {
            "text/plain": [
              "False"
            ]
          },
          "metadata": {},
          "execution_count": 39
        }
      ]
    },
    {
      "cell_type": "code",
      "source": [
        "# odd or even\n",
        "a = lambda x:'even' if x%2 == 0 else 'odd'\n",
        "a(6)"
      ],
      "metadata": {
        "colab": {
          "base_uri": "https://localhost:8080/",
          "height": 36
        },
        "id": "qOjQGhToKWr5",
        "outputId": "9700e8d5-369e-4b02-c137-9e7de63e8911"
      },
      "execution_count": 40,
      "outputs": [
        {
          "output_type": "execute_result",
          "data": {
            "text/plain": [
              "'even'"
            ],
            "application/vnd.google.colaboratory.intrinsic+json": {
              "type": "string"
            }
          },
          "metadata": {},
          "execution_count": 40
        }
      ]
    },
    {
      "cell_type": "markdown",
      "source": [
        "# Higher Order Functions"
      ],
      "metadata": {
        "id": "nD2MGdMNKanR"
      }
    },
    {
      "cell_type": "code",
      "source": [
        "# Example\n",
        "\n",
        "def square(x):\n",
        "  return x**2\n",
        "\n",
        "def cube(x):\n",
        "  return x**3\n",
        "\n",
        "# HOF\n",
        "def transform(f,L):\n",
        "  output = []\n",
        "  for i in L:\n",
        "    output.append(f(i))\n",
        "\n",
        "  print(output)\n",
        "\n",
        "L = [1,2,3,4,5]\n",
        "\n",
        "transform(lambda x:x**3,L)"
      ],
      "metadata": {
        "colab": {
          "base_uri": "https://localhost:8080/"
        },
        "id": "dadaUMG4KcG-",
        "outputId": "381188c6-b1a3-4e79-c712-e76650ee5b97"
      },
      "execution_count": 41,
      "outputs": [
        {
          "output_type": "stream",
          "name": "stdout",
          "text": [
            "[1, 8, 27, 64, 125]\n"
          ]
        }
      ]
    },
    {
      "cell_type": "code",
      "source": [
        "# Map\n",
        "# square the items of a list\n",
        "list(map(lambda x:x**2,[1,2,3,4,5]))"
      ],
      "metadata": {
        "colab": {
          "base_uri": "https://localhost:8080/"
        },
        "id": "0Tqh_o1vKhkC",
        "outputId": "1811dc79-b0e6-4761-e21d-85b45c1d0288"
      },
      "execution_count": 42,
      "outputs": [
        {
          "output_type": "execute_result",
          "data": {
            "text/plain": [
              "[1, 4, 9, 16, 25]"
            ]
          },
          "metadata": {},
          "execution_count": 42
        }
      ]
    },
    {
      "cell_type": "code",
      "source": [
        "# odd/even labelling of list items\n",
        "L = [1,2,3,4,5]\n",
        "list(map(lambda x:'even' if x%2 == 0 else 'odd',L))"
      ],
      "metadata": {
        "colab": {
          "base_uri": "https://localhost:8080/"
        },
        "id": "kiH2kz20KjZu",
        "outputId": "46f2e16a-29e7-469b-c4c4-f79f02a89723"
      },
      "execution_count": 43,
      "outputs": [
        {
          "output_type": "execute_result",
          "data": {
            "text/plain": [
              "['odd', 'even', 'odd', 'even', 'odd']"
            ]
          },
          "metadata": {},
          "execution_count": 43
        }
      ]
    },
    {
      "cell_type": "code",
      "source": [
        "# fetch names from a list of dict\n",
        "\n",
        "users = [\n",
        "    {\n",
        "        'name':'Rahul',\n",
        "        'age':45,\n",
        "        'gender':'male'\n",
        "    },\n",
        "    {\n",
        "        'name':'Nitish',\n",
        "        'age':33,\n",
        "        'gender':'male'\n",
        "    },\n",
        "    {\n",
        "        'name':'Ankita',\n",
        "        'age':50,\n",
        "        'gender':'female'\n",
        "    }\n",
        "]\n",
        "\n",
        "list(map(lambda users:users['gender'],users))"
      ],
      "metadata": {
        "colab": {
          "base_uri": "https://localhost:8080/"
        },
        "id": "YM6eXt7VKmR8",
        "outputId": "17fe7abb-d679-499c-f0a3-2530ad68b19e"
      },
      "execution_count": 44,
      "outputs": [
        {
          "output_type": "execute_result",
          "data": {
            "text/plain": [
              "['male', 'male', 'female']"
            ]
          },
          "metadata": {},
          "execution_count": 44
        }
      ]
    },
    {
      "cell_type": "code",
      "source": [
        "# Filter\n",
        "# numbers greater than 5\n",
        "L = [3,4,5,6,7]\n",
        "\n",
        "list(filter(lambda x:x>5,L))"
      ],
      "metadata": {
        "colab": {
          "base_uri": "https://localhost:8080/"
        },
        "id": "5dIvYkaYKp3s",
        "outputId": "7d065029-586f-43a8-af82-aaf240d98147"
      },
      "execution_count": 45,
      "outputs": [
        {
          "output_type": "execute_result",
          "data": {
            "text/plain": [
              "[6, 7]"
            ]
          },
          "metadata": {},
          "execution_count": 45
        }
      ]
    },
    {
      "cell_type": "code",
      "source": [
        "# fetch fruits starting with 'a'\n",
        "fruits = ['apple','guava','cherry']\n",
        "\n",
        "list(filter(lambda x:x.startswith('a'),fruits))"
      ],
      "metadata": {
        "colab": {
          "base_uri": "https://localhost:8080/"
        },
        "id": "xpyo6PAbKuhO",
        "outputId": "a8c46fd5-0bea-44ad-b2a2-95066651fd91"
      },
      "execution_count": 46,
      "outputs": [
        {
          "output_type": "execute_result",
          "data": {
            "text/plain": [
              "['apple']"
            ]
          },
          "metadata": {},
          "execution_count": 46
        }
      ]
    },
    {
      "cell_type": "code",
      "source": [
        "# Reduce\n",
        "# sum of all item\n",
        "import functools\n",
        "\n",
        "functools.reduce(lambda x,y:x+y,[1,2,3,4,5])"
      ],
      "metadata": {
        "colab": {
          "base_uri": "https://localhost:8080/"
        },
        "id": "8DTOwl0PKwHd",
        "outputId": "f6442b31-3651-4ae9-e42c-3897d6db4fa6"
      },
      "execution_count": 47,
      "outputs": [
        {
          "output_type": "execute_result",
          "data": {
            "text/plain": [
              "15"
            ]
          },
          "metadata": {},
          "execution_count": 47
        }
      ]
    },
    {
      "cell_type": "code",
      "source": [
        "# find min\n",
        "functools.reduce(lambda x,y:x if x>y else y,[23,11,45,10,1])"
      ],
      "metadata": {
        "colab": {
          "base_uri": "https://localhost:8080/"
        },
        "id": "mJFXqMBGK3FX",
        "outputId": "a11fbd75-c2aa-45bc-92e1-0e9aaefd9255"
      },
      "execution_count": 48,
      "outputs": [
        {
          "output_type": "execute_result",
          "data": {
            "text/plain": [
              "45"
            ]
          },
          "metadata": {},
          "execution_count": 48
        }
      ]
    }
  ]
}